{
 "cells": [
  {
   "cell_type": "code",
   "execution_count": 5,
   "metadata": {},
   "outputs": [],
   "source": [
    "from src.utils.cleaning import *"
   ]
  },
  {
   "cell_type": "code",
   "execution_count": 6,
   "metadata": {},
   "outputs": [],
   "source": [
    "path = r'src/data/input/'\n",
    "filename = 'creditcardmarketing.xlsx'\n",
    "df = load_data(path+filename)\n",
    "df = drop_nan(df)\n",
    "df = format_data(df)\n",
    "dump_value_counts('src/data/tmp/value_counts.txt', df)\n",
    "# Save to .csv file for further elaboration\n",
    "df.to_csv('src/data/output/credictcardmarketing.csv')"
   ]
  }
 ],
 "metadata": {
  "kernelspec": {
   "display_name": "Python 3.9.7 ('myenv')",
   "language": "python",
   "name": "python3"
  },
  "language_info": {
   "codemirror_mode": {
    "name": "ipython",
    "version": 3
   },
   "file_extension": ".py",
   "mimetype": "text/x-python",
   "name": "python",
   "nbconvert_exporter": "python",
   "pygments_lexer": "ipython3",
   "version": "3.9.7"
  },
  "orig_nbformat": 4,
  "vscode": {
   "interpreter": {
    "hash": "7ccaf04a6022a907b7257628cb7bbafd62ce30c6b894e36b28dd76ca1e2b8b50"
   }
  }
 },
 "nbformat": 4,
 "nbformat_minor": 2
}

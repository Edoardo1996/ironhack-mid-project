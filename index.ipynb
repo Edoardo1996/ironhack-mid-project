{
 "cells": [
  {
   "cell_type": "code",
   "execution_count": 1,
   "metadata": {},
   "outputs": [],
   "source": [
    "from src.utils import cleaning, eda, config, sktools, metrics\n",
    "from src.utils.classes import LogisticRegressionWithThreshold\n",
    "from sklearn.preprocessing import StandardScaler, OneHotEncoder, OrdinalEncoder,\\\n",
    "                                MinMaxScaler, Normalizer, FunctionTransformer\n",
    "from sklearn.linear_model import LogisticRegression\n",
    "from sklearn.neighbors import KNeighborsClassifier\n",
    "from sklearn.metrics import classification_report, recall_score, roc_auc_score, confusion_matrix\n",
    "from sklearn.ensemble import RandomForestClassifier\n",
    "from sklearn.naive_bayes import MultinomialNB, GaussianNB\n",
    "from sklearn.svm import SVC\n",
    "from sklearn.model_selection import GridSearchCV, RandomizedSearchCV\n",
    "from collections import OrderedDict\n",
    "import warnings \n",
    "import numpy as np\n",
    "import pandas as pd\n",
    "warnings.simplefilter('ignore')\n",
    "from imblearn.over_sampling import SMOTE\n",
    "from imblearn.under_sampling import TomekLinks\n",
    "from imblearn.combine import SMOTEENN, SMOTETomek"
   ]
  },
  {
   "cell_type": "markdown",
   "metadata": {},
   "source": [
    "### Simple Data Cleaning"
   ]
  },
  {
   "cell_type": "code",
   "execution_count": 2,
   "metadata": {},
   "outputs": [
    {
     "data": {
      "text/html": [
       "<div>\n",
       "<style scoped>\n",
       "    .dataframe tbody tr th:only-of-type {\n",
       "        vertical-align: middle;\n",
       "    }\n",
       "\n",
       "    .dataframe tbody tr th {\n",
       "        vertical-align: top;\n",
       "    }\n",
       "\n",
       "    .dataframe thead th {\n",
       "        text-align: right;\n",
       "    }\n",
       "</style>\n",
       "<table border=\"1\" class=\"dataframe\">\n",
       "  <thead>\n",
       "    <tr style=\"text-align: right;\">\n",
       "      <th></th>\n",
       "      <th>Customer Number</th>\n",
       "      <th>Offer Accepted</th>\n",
       "      <th>Reward</th>\n",
       "      <th>Mailer Type</th>\n",
       "      <th>Income Level</th>\n",
       "      <th># Bank Accounts Open</th>\n",
       "      <th>Overdraft Protection</th>\n",
       "      <th>Credit Rating</th>\n",
       "      <th># Credit Cards Held</th>\n",
       "      <th># Homes Owned</th>\n",
       "      <th>Household Size</th>\n",
       "      <th>Own Your Home</th>\n",
       "      <th>Average Balance</th>\n",
       "      <th>Q1 Balance</th>\n",
       "      <th>Q2 Balance</th>\n",
       "      <th>Q3 Balance</th>\n",
       "      <th>Q4 Balance</th>\n",
       "    </tr>\n",
       "  </thead>\n",
       "  <tbody>\n",
       "    <tr>\n",
       "      <th>0</th>\n",
       "      <td>1</td>\n",
       "      <td>No</td>\n",
       "      <td>Air Miles</td>\n",
       "      <td>Letter</td>\n",
       "      <td>High</td>\n",
       "      <td>1</td>\n",
       "      <td>No</td>\n",
       "      <td>High</td>\n",
       "      <td>2</td>\n",
       "      <td>1</td>\n",
       "      <td>4</td>\n",
       "      <td>No</td>\n",
       "      <td>1160.75</td>\n",
       "      <td>1669.0</td>\n",
       "      <td>877.0</td>\n",
       "      <td>1095.0</td>\n",
       "      <td>1002.0</td>\n",
       "    </tr>\n",
       "    <tr>\n",
       "      <th>1</th>\n",
       "      <td>2</td>\n",
       "      <td>No</td>\n",
       "      <td>Air Miles</td>\n",
       "      <td>Letter</td>\n",
       "      <td>Medium</td>\n",
       "      <td>1</td>\n",
       "      <td>No</td>\n",
       "      <td>Medium</td>\n",
       "      <td>2</td>\n",
       "      <td>2</td>\n",
       "      <td>5</td>\n",
       "      <td>Yes</td>\n",
       "      <td>147.25</td>\n",
       "      <td>39.0</td>\n",
       "      <td>106.0</td>\n",
       "      <td>78.0</td>\n",
       "      <td>366.0</td>\n",
       "    </tr>\n",
       "    <tr>\n",
       "      <th>2</th>\n",
       "      <td>3</td>\n",
       "      <td>No</td>\n",
       "      <td>Air Miles</td>\n",
       "      <td>Postcard</td>\n",
       "      <td>High</td>\n",
       "      <td>2</td>\n",
       "      <td>No</td>\n",
       "      <td>Medium</td>\n",
       "      <td>2</td>\n",
       "      <td>1</td>\n",
       "      <td>2</td>\n",
       "      <td>Yes</td>\n",
       "      <td>276.50</td>\n",
       "      <td>367.0</td>\n",
       "      <td>352.0</td>\n",
       "      <td>145.0</td>\n",
       "      <td>242.0</td>\n",
       "    </tr>\n",
       "    <tr>\n",
       "      <th>3</th>\n",
       "      <td>4</td>\n",
       "      <td>No</td>\n",
       "      <td>Air Miles</td>\n",
       "      <td>Letter</td>\n",
       "      <td>Medium</td>\n",
       "      <td>2</td>\n",
       "      <td>No</td>\n",
       "      <td>High</td>\n",
       "      <td>1</td>\n",
       "      <td>1</td>\n",
       "      <td>4</td>\n",
       "      <td>No</td>\n",
       "      <td>1219.00</td>\n",
       "      <td>1578.0</td>\n",
       "      <td>1760.0</td>\n",
       "      <td>1119.0</td>\n",
       "      <td>419.0</td>\n",
       "    </tr>\n",
       "    <tr>\n",
       "      <th>4</th>\n",
       "      <td>5</td>\n",
       "      <td>No</td>\n",
       "      <td>Air Miles</td>\n",
       "      <td>Letter</td>\n",
       "      <td>Medium</td>\n",
       "      <td>1</td>\n",
       "      <td>No</td>\n",
       "      <td>Medium</td>\n",
       "      <td>2</td>\n",
       "      <td>1</td>\n",
       "      <td>6</td>\n",
       "      <td>Yes</td>\n",
       "      <td>1211.00</td>\n",
       "      <td>2140.0</td>\n",
       "      <td>1357.0</td>\n",
       "      <td>982.0</td>\n",
       "      <td>365.0</td>\n",
       "    </tr>\n",
       "  </tbody>\n",
       "</table>\n",
       "</div>"
      ],
      "text/plain": [
       "   Customer Number Offer Accepted     Reward Mailer Type Income Level  \\\n",
       "0                1             No  Air Miles      Letter         High   \n",
       "1                2             No  Air Miles      Letter       Medium   \n",
       "2                3             No  Air Miles    Postcard         High   \n",
       "3                4             No  Air Miles      Letter       Medium   \n",
       "4                5             No  Air Miles      Letter       Medium   \n",
       "\n",
       "   # Bank Accounts Open Overdraft Protection Credit Rating  \\\n",
       "0                     1                   No          High   \n",
       "1                     1                   No        Medium   \n",
       "2                     2                   No        Medium   \n",
       "3                     2                   No          High   \n",
       "4                     1                   No        Medium   \n",
       "\n",
       "   # Credit Cards Held  # Homes Owned  Household Size Own Your Home  \\\n",
       "0                    2              1               4            No   \n",
       "1                    2              2               5           Yes   \n",
       "2                    2              1               2           Yes   \n",
       "3                    1              1               4            No   \n",
       "4                    2              1               6           Yes   \n",
       "\n",
       "   Average Balance  Q1 Balance  Q2 Balance  Q3 Balance  Q4 Balance  \n",
       "0          1160.75      1669.0       877.0      1095.0      1002.0  \n",
       "1           147.25        39.0       106.0        78.0       366.0  \n",
       "2           276.50       367.0       352.0       145.0       242.0  \n",
       "3          1219.00      1578.0      1760.0      1119.0       419.0  \n",
       "4          1211.00      2140.0      1357.0       982.0       365.0  "
      ]
     },
     "execution_count": 2,
     "metadata": {},
     "output_type": "execute_result"
    }
   ],
   "source": [
    "# Load the original dataset\n",
    "df = cleaning.load_data(config.ORIG_DATA_PATH)\n",
    "df.head()"
   ]
  },
  {
   "cell_type": "code",
   "execution_count": 3,
   "metadata": {},
   "outputs": [
    {
     "name": "stdout",
     "output_type": "stream",
     "text": [
      "Dropped 24 rows, 0.13% of original rows\n"
     ]
    }
   ],
   "source": [
    "# Data cleaning\n",
    "df = cleaning.drop_nan(df, verbose=True)"
   ]
  },
  {
   "cell_type": "code",
   "execution_count": 4,
   "metadata": {},
   "outputs": [
    {
     "data": {
      "text/html": [
       "<div>\n",
       "<style scoped>\n",
       "    .dataframe tbody tr th:only-of-type {\n",
       "        vertical-align: middle;\n",
       "    }\n",
       "\n",
       "    .dataframe tbody tr th {\n",
       "        vertical-align: top;\n",
       "    }\n",
       "\n",
       "    .dataframe thead th {\n",
       "        text-align: right;\n",
       "    }\n",
       "</style>\n",
       "<table border=\"1\" class=\"dataframe\">\n",
       "  <thead>\n",
       "    <tr style=\"text-align: right;\">\n",
       "      <th></th>\n",
       "      <th>offer_accepted</th>\n",
       "      <th>reward</th>\n",
       "      <th>mailer_type</th>\n",
       "      <th>income_level</th>\n",
       "      <th>bank_accounts_open</th>\n",
       "      <th>overdraft_protection</th>\n",
       "      <th>credit_rating</th>\n",
       "      <th>credit_cards_held</th>\n",
       "      <th>homes_owned</th>\n",
       "      <th>household_size</th>\n",
       "      <th>own_your_home</th>\n",
       "      <th>average_balance</th>\n",
       "      <th>q1_balance</th>\n",
       "      <th>q2_balance</th>\n",
       "      <th>q3_balance</th>\n",
       "      <th>q4_balance</th>\n",
       "    </tr>\n",
       "    <tr>\n",
       "      <th>customer_number</th>\n",
       "      <th></th>\n",
       "      <th></th>\n",
       "      <th></th>\n",
       "      <th></th>\n",
       "      <th></th>\n",
       "      <th></th>\n",
       "      <th></th>\n",
       "      <th></th>\n",
       "      <th></th>\n",
       "      <th></th>\n",
       "      <th></th>\n",
       "      <th></th>\n",
       "      <th></th>\n",
       "      <th></th>\n",
       "      <th></th>\n",
       "      <th></th>\n",
       "    </tr>\n",
       "  </thead>\n",
       "  <tbody>\n",
       "    <tr>\n",
       "      <th>1</th>\n",
       "      <td>No</td>\n",
       "      <td>Air Miles</td>\n",
       "      <td>Letter</td>\n",
       "      <td>High</td>\n",
       "      <td>1</td>\n",
       "      <td>No</td>\n",
       "      <td>High</td>\n",
       "      <td>2</td>\n",
       "      <td>1</td>\n",
       "      <td>4</td>\n",
       "      <td>No</td>\n",
       "      <td>1160.75</td>\n",
       "      <td>1669.0</td>\n",
       "      <td>877.0</td>\n",
       "      <td>1095.0</td>\n",
       "      <td>1002.0</td>\n",
       "    </tr>\n",
       "    <tr>\n",
       "      <th>2</th>\n",
       "      <td>No</td>\n",
       "      <td>Air Miles</td>\n",
       "      <td>Letter</td>\n",
       "      <td>Medium</td>\n",
       "      <td>1</td>\n",
       "      <td>No</td>\n",
       "      <td>Medium</td>\n",
       "      <td>2</td>\n",
       "      <td>2</td>\n",
       "      <td>5</td>\n",
       "      <td>Yes</td>\n",
       "      <td>147.25</td>\n",
       "      <td>39.0</td>\n",
       "      <td>106.0</td>\n",
       "      <td>78.0</td>\n",
       "      <td>366.0</td>\n",
       "    </tr>\n",
       "    <tr>\n",
       "      <th>3</th>\n",
       "      <td>No</td>\n",
       "      <td>Air Miles</td>\n",
       "      <td>Postcard</td>\n",
       "      <td>High</td>\n",
       "      <td>2</td>\n",
       "      <td>No</td>\n",
       "      <td>Medium</td>\n",
       "      <td>2</td>\n",
       "      <td>1</td>\n",
       "      <td>2</td>\n",
       "      <td>Yes</td>\n",
       "      <td>276.50</td>\n",
       "      <td>367.0</td>\n",
       "      <td>352.0</td>\n",
       "      <td>145.0</td>\n",
       "      <td>242.0</td>\n",
       "    </tr>\n",
       "    <tr>\n",
       "      <th>4</th>\n",
       "      <td>No</td>\n",
       "      <td>Air Miles</td>\n",
       "      <td>Letter</td>\n",
       "      <td>Medium</td>\n",
       "      <td>2</td>\n",
       "      <td>No</td>\n",
       "      <td>High</td>\n",
       "      <td>1</td>\n",
       "      <td>1</td>\n",
       "      <td>4</td>\n",
       "      <td>No</td>\n",
       "      <td>1219.00</td>\n",
       "      <td>1578.0</td>\n",
       "      <td>1760.0</td>\n",
       "      <td>1119.0</td>\n",
       "      <td>419.0</td>\n",
       "    </tr>\n",
       "    <tr>\n",
       "      <th>5</th>\n",
       "      <td>No</td>\n",
       "      <td>Air Miles</td>\n",
       "      <td>Letter</td>\n",
       "      <td>Medium</td>\n",
       "      <td>1</td>\n",
       "      <td>No</td>\n",
       "      <td>Medium</td>\n",
       "      <td>2</td>\n",
       "      <td>1</td>\n",
       "      <td>6</td>\n",
       "      <td>Yes</td>\n",
       "      <td>1211.00</td>\n",
       "      <td>2140.0</td>\n",
       "      <td>1357.0</td>\n",
       "      <td>982.0</td>\n",
       "      <td>365.0</td>\n",
       "    </tr>\n",
       "  </tbody>\n",
       "</table>\n",
       "</div>"
      ],
      "text/plain": [
       "                offer_accepted     reward mailer_type income_level  \\\n",
       "customer_number                                                      \n",
       "1                           No  Air Miles      Letter         High   \n",
       "2                           No  Air Miles      Letter       Medium   \n",
       "3                           No  Air Miles    Postcard         High   \n",
       "4                           No  Air Miles      Letter       Medium   \n",
       "5                           No  Air Miles      Letter       Medium   \n",
       "\n",
       "                 bank_accounts_open overdraft_protection credit_rating  \\\n",
       "customer_number                                                          \n",
       "1                                 1                   No          High   \n",
       "2                                 1                   No        Medium   \n",
       "3                                 2                   No        Medium   \n",
       "4                                 2                   No          High   \n",
       "5                                 1                   No        Medium   \n",
       "\n",
       "                 credit_cards_held  homes_owned  household_size own_your_home  \\\n",
       "customer_number                                                                 \n",
       "1                                2            1               4            No   \n",
       "2                                2            2               5           Yes   \n",
       "3                                2            1               2           Yes   \n",
       "4                                1            1               4            No   \n",
       "5                                2            1               6           Yes   \n",
       "\n",
       "                 average_balance  q1_balance  q2_balance  q3_balance  \\\n",
       "customer_number                                                        \n",
       "1                        1160.75      1669.0       877.0      1095.0   \n",
       "2                         147.25        39.0       106.0        78.0   \n",
       "3                         276.50       367.0       352.0       145.0   \n",
       "4                        1219.00      1578.0      1760.0      1119.0   \n",
       "5                        1211.00      2140.0      1357.0       982.0   \n",
       "\n",
       "                 q4_balance  \n",
       "customer_number              \n",
       "1                    1002.0  \n",
       "2                     366.0  \n",
       "3                     242.0  \n",
       "4                     419.0  \n",
       "5                     365.0  "
      ]
     },
     "execution_count": 4,
     "metadata": {},
     "output_type": "execute_result"
    }
   ],
   "source": [
    "# Formatting index and column names\n",
    "df = cleaning.format_data(df)\n",
    "df.head()"
   ]
  },
  {
   "cell_type": "code",
   "execution_count": 5,
   "metadata": {},
   "outputs": [
    {
     "name": "stdout",
     "output_type": "stream",
     "text": [
      "Value counts information has been printed to src/data/tmp/\n"
     ]
    }
   ],
   "source": [
    "# Value counts file dump\n",
    "cleaning.dump_value_counts(config.VALUE_COUNTS_PATH, df, verbose=True)"
   ]
  },
  {
   "cell_type": "code",
   "execution_count": 6,
   "metadata": {},
   "outputs": [],
   "source": [
    "# Save cleaned data\n",
    "df.to_csv(config.CLEANED_DATA_PATH)"
   ]
  },
  {
   "cell_type": "markdown",
   "metadata": {},
   "source": [
    "### EDA"
   ]
  },
  {
   "cell_type": "code",
   "execution_count": 7,
   "metadata": {},
   "outputs": [
    {
     "data": {
      "text/html": [
       "<div>\n",
       "<style scoped>\n",
       "    .dataframe tbody tr th:only-of-type {\n",
       "        vertical-align: middle;\n",
       "    }\n",
       "\n",
       "    .dataframe tbody tr th {\n",
       "        vertical-align: top;\n",
       "    }\n",
       "\n",
       "    .dataframe thead th {\n",
       "        text-align: right;\n",
       "    }\n",
       "</style>\n",
       "<table border=\"1\" class=\"dataframe\">\n",
       "  <thead>\n",
       "    <tr style=\"text-align: right;\">\n",
       "      <th></th>\n",
       "      <th>nan_count</th>\n",
       "      <th>dtype</th>\n",
       "      <th>unique</th>\n",
       "    </tr>\n",
       "  </thead>\n",
       "  <tbody>\n",
       "    <tr>\n",
       "      <th>offer_accepted</th>\n",
       "      <td>0</td>\n",
       "      <td>object</td>\n",
       "      <td>2</td>\n",
       "    </tr>\n",
       "    <tr>\n",
       "      <th>reward</th>\n",
       "      <td>0</td>\n",
       "      <td>object</td>\n",
       "      <td>3</td>\n",
       "    </tr>\n",
       "    <tr>\n",
       "      <th>mailer_type</th>\n",
       "      <td>0</td>\n",
       "      <td>object</td>\n",
       "      <td>2</td>\n",
       "    </tr>\n",
       "    <tr>\n",
       "      <th>income_level</th>\n",
       "      <td>0</td>\n",
       "      <td>object</td>\n",
       "      <td>3</td>\n",
       "    </tr>\n",
       "    <tr>\n",
       "      <th>bank_accounts_open</th>\n",
       "      <td>0</td>\n",
       "      <td>int64</td>\n",
       "      <td>3</td>\n",
       "    </tr>\n",
       "    <tr>\n",
       "      <th>overdraft_protection</th>\n",
       "      <td>0</td>\n",
       "      <td>object</td>\n",
       "      <td>2</td>\n",
       "    </tr>\n",
       "    <tr>\n",
       "      <th>credit_rating</th>\n",
       "      <td>0</td>\n",
       "      <td>object</td>\n",
       "      <td>3</td>\n",
       "    </tr>\n",
       "    <tr>\n",
       "      <th>credit_cards_held</th>\n",
       "      <td>0</td>\n",
       "      <td>int64</td>\n",
       "      <td>4</td>\n",
       "    </tr>\n",
       "    <tr>\n",
       "      <th>homes_owned</th>\n",
       "      <td>0</td>\n",
       "      <td>int64</td>\n",
       "      <td>3</td>\n",
       "    </tr>\n",
       "    <tr>\n",
       "      <th>household_size</th>\n",
       "      <td>0</td>\n",
       "      <td>int64</td>\n",
       "      <td>8</td>\n",
       "    </tr>\n",
       "    <tr>\n",
       "      <th>own_your_home</th>\n",
       "      <td>0</td>\n",
       "      <td>object</td>\n",
       "      <td>2</td>\n",
       "    </tr>\n",
       "    <tr>\n",
       "      <th>average_balance</th>\n",
       "      <td>0</td>\n",
       "      <td>float64</td>\n",
       "      <td>4728</td>\n",
       "    </tr>\n",
       "    <tr>\n",
       "      <th>q1_balance</th>\n",
       "      <td>0</td>\n",
       "      <td>float64</td>\n",
       "      <td>2158</td>\n",
       "    </tr>\n",
       "    <tr>\n",
       "      <th>q2_balance</th>\n",
       "      <td>0</td>\n",
       "      <td>float64</td>\n",
       "      <td>1945</td>\n",
       "    </tr>\n",
       "    <tr>\n",
       "      <th>q3_balance</th>\n",
       "      <td>0</td>\n",
       "      <td>float64</td>\n",
       "      <td>2281</td>\n",
       "    </tr>\n",
       "    <tr>\n",
       "      <th>q4_balance</th>\n",
       "      <td>0</td>\n",
       "      <td>float64</td>\n",
       "      <td>2184</td>\n",
       "    </tr>\n",
       "  </tbody>\n",
       "</table>\n",
       "</div>"
      ],
      "text/plain": [
       "                      nan_count    dtype  unique\n",
       "offer_accepted                0   object       2\n",
       "reward                        0   object       3\n",
       "mailer_type                   0   object       2\n",
       "income_level                  0   object       3\n",
       "bank_accounts_open            0    int64       3\n",
       "overdraft_protection          0   object       2\n",
       "credit_rating                 0   object       3\n",
       "credit_cards_held             0    int64       4\n",
       "homes_owned                   0    int64       3\n",
       "household_size                0    int64       8\n",
       "own_your_home                 0   object       2\n",
       "average_balance               0  float64    4728\n",
       "q1_balance                    0  float64    2158\n",
       "q2_balance                    0  float64    1945\n",
       "q3_balance                    0  float64    2281\n",
       "q4_balance                    0  float64    2184"
      ]
     },
     "execution_count": 7,
     "metadata": {},
     "output_type": "execute_result"
    }
   ],
   "source": [
    "# Load cleaned dataset\n",
    "df = cleaning.load_data(config.CLEANED_DATA_PATH, index_col=0)\n",
    "eda.report(df)"
   ]
  },
  {
   "cell_type": "code",
   "execution_count": 8,
   "metadata": {},
   "outputs": [
    {
     "data": {
      "text/html": [
       "<div>\n",
       "<style scoped>\n",
       "    .dataframe tbody tr th:only-of-type {\n",
       "        vertical-align: middle;\n",
       "    }\n",
       "\n",
       "    .dataframe tbody tr th {\n",
       "        vertical-align: top;\n",
       "    }\n",
       "\n",
       "    .dataframe thead th {\n",
       "        text-align: right;\n",
       "    }\n",
       "</style>\n",
       "<table border=\"1\" class=\"dataframe\">\n",
       "  <thead>\n",
       "    <tr style=\"text-align: right;\">\n",
       "      <th></th>\n",
       "      <th>bank_accounts_open</th>\n",
       "      <th>credit_cards_held</th>\n",
       "      <th>homes_owned</th>\n",
       "      <th>household_size</th>\n",
       "      <th>average_balance</th>\n",
       "      <th>q1_balance</th>\n",
       "      <th>q2_balance</th>\n",
       "      <th>q3_balance</th>\n",
       "      <th>q4_balance</th>\n",
       "    </tr>\n",
       "  </thead>\n",
       "  <tbody>\n",
       "    <tr>\n",
       "      <th>count</th>\n",
       "      <td>17976.000000</td>\n",
       "      <td>17976.000000</td>\n",
       "      <td>17976.000000</td>\n",
       "      <td>17976.000000</td>\n",
       "      <td>17976.000000</td>\n",
       "      <td>17976.000000</td>\n",
       "      <td>17976.000000</td>\n",
       "      <td>17976.000000</td>\n",
       "      <td>17976.000000</td>\n",
       "    </tr>\n",
       "    <tr>\n",
       "      <th>mean</th>\n",
       "      <td>1.255730</td>\n",
       "      <td>1.903427</td>\n",
       "      <td>1.203549</td>\n",
       "      <td>3.499110</td>\n",
       "      <td>940.515562</td>\n",
       "      <td>910.450656</td>\n",
       "      <td>999.392190</td>\n",
       "      <td>1042.033600</td>\n",
       "      <td>810.185803</td>\n",
       "    </tr>\n",
       "    <tr>\n",
       "      <th>std</th>\n",
       "      <td>0.472405</td>\n",
       "      <td>0.797086</td>\n",
       "      <td>0.427446</td>\n",
       "      <td>1.114476</td>\n",
       "      <td>350.297837</td>\n",
       "      <td>620.077060</td>\n",
       "      <td>457.402268</td>\n",
       "      <td>553.452599</td>\n",
       "      <td>559.001365</td>\n",
       "    </tr>\n",
       "    <tr>\n",
       "      <th>min</th>\n",
       "      <td>1.000000</td>\n",
       "      <td>1.000000</td>\n",
       "      <td>1.000000</td>\n",
       "      <td>1.000000</td>\n",
       "      <td>48.250000</td>\n",
       "      <td>0.000000</td>\n",
       "      <td>0.000000</td>\n",
       "      <td>0.000000</td>\n",
       "      <td>0.000000</td>\n",
       "    </tr>\n",
       "    <tr>\n",
       "      <th>25%</th>\n",
       "      <td>1.000000</td>\n",
       "      <td>1.000000</td>\n",
       "      <td>1.000000</td>\n",
       "      <td>3.000000</td>\n",
       "      <td>787.500000</td>\n",
       "      <td>392.750000</td>\n",
       "      <td>663.000000</td>\n",
       "      <td>633.000000</td>\n",
       "      <td>363.000000</td>\n",
       "    </tr>\n",
       "    <tr>\n",
       "      <th>50%</th>\n",
       "      <td>1.000000</td>\n",
       "      <td>2.000000</td>\n",
       "      <td>1.000000</td>\n",
       "      <td>3.000000</td>\n",
       "      <td>1007.000000</td>\n",
       "      <td>772.000000</td>\n",
       "      <td>1032.000000</td>\n",
       "      <td>945.500000</td>\n",
       "      <td>703.000000</td>\n",
       "    </tr>\n",
       "    <tr>\n",
       "      <th>75%</th>\n",
       "      <td>1.000000</td>\n",
       "      <td>2.000000</td>\n",
       "      <td>1.000000</td>\n",
       "      <td>4.000000</td>\n",
       "      <td>1153.250000</td>\n",
       "      <td>1521.000000</td>\n",
       "      <td>1342.000000</td>\n",
       "      <td>1463.000000</td>\n",
       "      <td>1212.000000</td>\n",
       "    </tr>\n",
       "    <tr>\n",
       "      <th>max</th>\n",
       "      <td>3.000000</td>\n",
       "      <td>4.000000</td>\n",
       "      <td>3.000000</td>\n",
       "      <td>9.000000</td>\n",
       "      <td>3366.250000</td>\n",
       "      <td>3450.000000</td>\n",
       "      <td>3421.000000</td>\n",
       "      <td>3823.000000</td>\n",
       "      <td>4215.000000</td>\n",
       "    </tr>\n",
       "  </tbody>\n",
       "</table>\n",
       "</div>"
      ],
      "text/plain": [
       "       bank_accounts_open  credit_cards_held   homes_owned  household_size  \\\n",
       "count        17976.000000       17976.000000  17976.000000    17976.000000   \n",
       "mean             1.255730           1.903427      1.203549        3.499110   \n",
       "std              0.472405           0.797086      0.427446        1.114476   \n",
       "min              1.000000           1.000000      1.000000        1.000000   \n",
       "25%              1.000000           1.000000      1.000000        3.000000   \n",
       "50%              1.000000           2.000000      1.000000        3.000000   \n",
       "75%              1.000000           2.000000      1.000000        4.000000   \n",
       "max              3.000000           4.000000      3.000000        9.000000   \n",
       "\n",
       "       average_balance    q1_balance    q2_balance    q3_balance    q4_balance  \n",
       "count     17976.000000  17976.000000  17976.000000  17976.000000  17976.000000  \n",
       "mean        940.515562    910.450656    999.392190   1042.033600    810.185803  \n",
       "std         350.297837    620.077060    457.402268    553.452599    559.001365  \n",
       "min          48.250000      0.000000      0.000000      0.000000      0.000000  \n",
       "25%         787.500000    392.750000    663.000000    633.000000    363.000000  \n",
       "50%        1007.000000    772.000000   1032.000000    945.500000    703.000000  \n",
       "75%        1153.250000   1521.000000   1342.000000   1463.000000   1212.000000  \n",
       "max        3366.250000   3450.000000   3421.000000   3823.000000   4215.000000  "
      ]
     },
     "execution_count": 8,
     "metadata": {},
     "output_type": "execute_result"
    }
   ],
   "source": [
    "# Statistics of numerical features of the dataset\n",
    "df.describe()"
   ]
  },
  {
   "cell_type": "code",
   "execution_count": 9,
   "metadata": {},
   "outputs": [
    {
     "data": {
      "image/png": "[encoded data removed]",
      "text/plain": [
       "<Figure size 720x432 with 1 Axes>"
      ]
     },
     "metadata": {
      "needs_background": "light"
     },
     "output_type": "display_data"
    },
    {
     "data": {
      "image/png": "[encoded data removed]",
      "text/plain": [
       "<Figure size 720x432 with 1 Axes>"
      ]
     },
     "metadata": {
      "needs_background": "light"
     },
     "output_type": "display_data"
    },
    {
     "data": {
      "image/png": "[encoded data removed]",
      "text/plain": [
       "<Figure size 720x432 with 1 Axes>"
      ]
     },
     "metadata": {
      "needs_background": "light"
     },
     "output_type": "display_data"
    },
    {
     "data": {
      "image/png": "[encoded data removed]",
      "text/plain": [
       "<Figure size 720x432 with 1 Axes>"
      ]
     },
     "metadata": {
      "needs_background": "light"
     },
     "output_type": "display_data"
    },
    {
     "data": {
      "image/png": "[encoded data removed]",
      "text/plain": [
       "<Figure size 720x432 with 1 Axes>"
      ]
     },
     "metadata": {
      "needs_background": "light"
     },
     "output_type": "display_data"
    },
    {
     "data": {
      "image/png": "[encoded data removed]",
      "text/plain": [
       "<Figure size 720x432 with 1 Axes>"
      ]
     },
     "metadata": {
      "needs_background": "light"
     },
     "output_type": "display_data"
    },
    {
     "data": {
      "image/png": "[encoded data removed]",
      "text/plain": [
       "<Figure size 720x432 with 1 Axes>"
      ]
     },
     "metadata": {
      "needs_background": "light"
     },
     "output_type": "display_data"
    },
    {
     "data": {
      "image/png": "[encoded data removed]",
      "text/plain": [
       "<Figure size 720x432 with 1 Axes>"
      ]
     },
     "metadata": {
      "needs_background": "light"
     },
     "output_type": "display_data"
    },
    {
     "data": {
      "image/png": "[encoded data removed]",
      "text/plain": [
       "<Figure size 720x432 with 1 Axes>"
      ]
     },
     "metadata": {
      "needs_background": "light"
     },
     "output_type": "display_data"
    },
    {
     "data": {
      "image/png": "[encoded data removed]",
      "text/plain": [
       "<Figure size 720x432 with 1 Axes>"
      ]
     },
     "metadata": {
      "needs_background": "light"
     },
     "output_type": "display_data"
    },
    {
     "data": {
      "image/png": "[encoded data removed]",
      "text/plain": [
       "<Figure size 720x432 with 1 Axes>"
      ]
     },
     "metadata": {
      "needs_background": "light"
     },
     "output_type": "display_data"
    },
    {
     "data": {
      "image/png": "[encoded data removed]",
      "text/plain": [
       "<Figure size 720x432 with 1 Axes>"
      ]
     },
     "metadata": {
      "needs_background": "light"
     },
     "output_type": "display_data"
    },
    {
     "data": {
      "image/png": "[encoded data removed]",
      "text/plain": [
       "<Figure size 720x432 with 1 Axes>"
      ]
     },
     "metadata": {
      "needs_background": "light"
     },
     "output_type": "display_data"
    },
    {
     "data": {
      "image/png": "[encoded data removed]",
      "text/plain": [
       "<Figure size 720x432 with 1 Axes>"
      ]
     },
     "metadata": {
      "needs_background": "light"
     },
     "output_type": "display_data"
    },
    {
     "data": {
      "image/png": "[encoded data removed]",
      "text/plain": [
       "<Figure size 720x432 with 1 Axes>"
      ]
     },
     "metadata": {
      "needs_background": "light"
     },
     "output_type": "display_data"
    },
    {
     "data": {
      "image/png": "[encoded data removed]",
      "text/plain": [
       "<Figure size 720x432 with 1 Axes>"
      ]
     },
     "metadata": {
      "needs_background": "light"
     },
     "output_type": "display_data"
    }
   ],
   "source": [
    "# Take a look at some distributions\n",
    "eda.plot_distributions(df, (10, 6))"
   ]
  },
  {
   "cell_type": "code",
   "execution_count": 10,
   "metadata": {},
   "outputs": [
    {
     "data": {
      "text/plain": [
       "<Figure size 720x432 with 0 Axes>"
      ]
     },
     "metadata": {},
     "output_type": "display_data"
    },
    {
     "data": {
      "text/plain": [
       "<Figure size 720x432 with 0 Axes>"
      ]
     },
     "metadata": {},
     "output_type": "display_data"
    },
    {
     "data": {
      "text/plain": [
       "<Figure size 720x432 with 0 Axes>"
      ]
     },
     "metadata": {},
     "output_type": "display_data"
    },
    {
     "data": {
      "text/plain": [
       "<Figure size 720x432 with 0 Axes>"
      ]
     },
     "metadata": {},
     "output_type": "display_data"
    },
    {
     "data": {
      "image/png": "[encoded data removed]",
      "text/plain": [
       "<Figure size 720x432 with 1 Axes>"
      ]
     },
     "metadata": {
      "needs_background": "light"
     },
     "output_type": "display_data"
    },
    {
     "data": {
      "text/plain": [
       "<Figure size 720x432 with 0 Axes>"
      ]
     },
     "metadata": {},
     "output_type": "display_data"
    },
    {
     "data": {
      "text/plain": [
       "<Figure size 720x432 with 0 Axes>"
      ]
     },
     "metadata": {},
     "output_type": "display_data"
    },
    {
     "data": {
      "image/png": "[encoded data removed]",
      "text/plain": [
       "<Figure size 720x432 with 1 Axes>"
      ]
     },
     "metadata": {
      "needs_background": "light"
     },
     "output_type": "display_data"
    },
    {
     "data": {
      "image/png": "[encoded data removed]",
      "text/plain": [
       "<Figure size 720x432 with 1 Axes>"
      ]
     },
     "metadata": {
      "needs_background": "light"
     },
     "output_type": "display_data"
    },
    {
     "data": {
      "image/png": "[encoded data removed]",
      "text/plain": [
       "<Figure size 720x432 with 1 Axes>"
      ]
     },
     "metadata": {
      "needs_background": "light"
     },
     "output_type": "display_data"
    },
    {
     "data": {
      "text/plain": [
       "<Figure size 720x432 with 0 Axes>"
      ]
     },
     "metadata": {},
     "output_type": "display_data"
    },
    {
     "data": {
      "image/png": "[encoded data removed]",
      "text/plain": [
       "<Figure size 720x432 with 1 Axes>"
      ]
     },
     "metadata": {
      "needs_background": "light"
     },
     "output_type": "display_data"
    },
    {
     "data": {
      "image/png": "[encoded data removed]",
      "text/plain": [
       "<Figure size 720x432 with 1 Axes>"
      ]
     },
     "metadata": {
      "needs_background": "light"
     },
     "output_type": "display_data"
    },
    {
     "data": {
      "image/png": "[encoded data removed]",
      "text/plain": [
       "<Figure size 720x432 with 1 Axes>"
      ]
     },
     "metadata": {
      "needs_background": "light"
     },
     "output_type": "display_data"
    },
    {
     "data": {
      "image/png": "[encoded data removed]",
      "text/plain": [
       "<Figure size 720x432 with 1 Axes>"
      ]
     },
     "metadata": {
      "needs_background": "light"
     },
     "output_type": "display_data"
    },
    {
     "data": {
      "image/png": "[encoded data removed]",
      "text/plain": [
       "<Figure size 720x432 with 1 Axes>"
      ]
     },
     "metadata": {
      "needs_background": "light"
     },
     "output_type": "display_data"
    }
   ],
   "source": [
    "# Take a look to the outliers\n",
    "eda.plot_outliers(df, (10, 6))"
   ]
  },
  {
   "cell_type": "code",
   "execution_count": 11,
   "metadata": {},
   "outputs": [
    {
     "name": "stdout",
     "output_type": "stream",
     "text": [
      "Outliers removal has removed 1442 rows (8.02 % of initial size)\n"
     ]
    }
   ],
   "source": [
    "# drop outliers from selected columns\n",
    "df_without_outliers = sktools.remove_outliers(df, skip_columns=eval(config.SKIP_DROP_OUTLIERS),\n",
    "                                verbose=True, threshold=1.5)"
   ]
  },
  {
   "cell_type": "code",
   "execution_count": 12,
   "metadata": {},
   "outputs": [
    {
     "data": {
      "image/png": "[encoded data removed]",
      "text/plain": [
       "<Figure size 864x576 with 2 Axes>"
      ]
     },
     "metadata": {
      "needs_background": "light"
     },
     "output_type": "display_data"
    }
   ],
   "source": [
    "# Take a look to correlation heatmap\n",
    "eda.show_corr_heatmap(df, figsize=(12, 8))"
   ]
  },
  {
   "cell_type": "code",
   "execution_count": 13,
   "metadata": {},
   "outputs": [
    {
     "data": {
      "text/html": [
       "<div>\n",
       "<style scoped>\n",
       "    .dataframe tbody tr th:only-of-type {\n",
       "        vertical-align: middle;\n",
       "    }\n",
       "\n",
       "    .dataframe tbody tr th {\n",
       "        vertical-align: top;\n",
       "    }\n",
       "\n",
       "    .dataframe thead th {\n",
       "        text-align: right;\n",
       "    }\n",
       "</style>\n",
       "<table border=\"1\" class=\"dataframe\">\n",
       "  <thead>\n",
       "    <tr style=\"text-align: right;\">\n",
       "      <th></th>\n",
       "      <th>feat1</th>\n",
       "      <th>feat2</th>\n",
       "      <th>corr</th>\n",
       "    </tr>\n",
       "  </thead>\n",
       "  <tbody>\n",
       "    <tr>\n",
       "      <th>0</th>\n",
       "      <td>average_balance</td>\n",
       "      <td>q2_balance</td>\n",
       "      <td>0.800285</td>\n",
       "    </tr>\n",
       "    <tr>\n",
       "      <th>1</th>\n",
       "      <td>average_balance</td>\n",
       "      <td>q1_balance</td>\n",
       "      <td>0.481507</td>\n",
       "    </tr>\n",
       "    <tr>\n",
       "      <th>2</th>\n",
       "      <td>average_balance</td>\n",
       "      <td>q3_balance</td>\n",
       "      <td>0.752741</td>\n",
       "    </tr>\n",
       "    <tr>\n",
       "      <th>3</th>\n",
       "      <td>average_balance</td>\n",
       "      <td>q4_balance</td>\n",
       "      <td>0.572380</td>\n",
       "    </tr>\n",
       "    <tr>\n",
       "      <th>4</th>\n",
       "      <td>q1_balance</td>\n",
       "      <td>q2_balance</td>\n",
       "      <td>0.483134</td>\n",
       "    </tr>\n",
       "    <tr>\n",
       "      <th>5</th>\n",
       "      <td>q2_balance</td>\n",
       "      <td>q3_balance</td>\n",
       "      <td>0.487710</td>\n",
       "    </tr>\n",
       "    <tr>\n",
       "      <th>6</th>\n",
       "      <td>q3_balance</td>\n",
       "      <td>q4_balance</td>\n",
       "      <td>0.565298</td>\n",
       "    </tr>\n",
       "  </tbody>\n",
       "</table>\n",
       "</div>"
      ],
      "text/plain": [
       "             feat1       feat2      corr\n",
       "0  average_balance  q2_balance  0.800285\n",
       "1  average_balance  q1_balance  0.481507\n",
       "2  average_balance  q3_balance  0.752741\n",
       "3  average_balance  q4_balance  0.572380\n",
       "4       q1_balance  q2_balance  0.483134\n",
       "5       q2_balance  q3_balance  0.487710\n",
       "6       q3_balance  q4_balance  0.565298"
      ]
     },
     "execution_count": 13,
     "metadata": {},
     "output_type": "execute_result"
    }
   ],
   "source": [
    "# Following couples present multicollinearity\n",
    "multicoll = eda.report_multicoll(df)\n",
    "multicoll"
   ]
  },
  {
   "cell_type": "markdown",
   "metadata": {},
   "source": [
    "### Benchmark Models\n",
    "In following sections the Benchmark models are presented in order to get an <br>\n",
    "initial idea on how the different classifiers perform with a raw dataset with <br>\n",
    "minimal tuning to the model. The classifier analized are:\n",
    "- Logistic Regression\n",
    "- Naive Bayes (Multinomial)\n",
    "- Naive Bayes (Gaussian)\n",
    "- K-Neares Neighbors\n",
    "- Support Vector Machine (SVC)\n",
    "- Decision Tree (Random Forest Classifier)"
   ]
  },
  {
   "cell_type": "markdown",
   "metadata": {},
   "source": [
    "Models are implemented all with the same modifications on the dataset:\n",
    "- MinMax applied to numerical data\n",
    "- One Hot Encoder applied to categorical data\n",
    "- No feature engineer/reduction\n",
    "- No consideration of Multicollinearity\n",
    "- Yes balancing the dataset, otherwise all models due to high imbalance\n",
    "- No outliers dropped\n",
    "- No parameters tuning on the models"
   ]
  },
  {
   "cell_type": "code",
   "execution_count": 14,
   "metadata": {},
   "outputs": [],
   "source": [
    "# Benchmark config\n",
    "cols_onehot_encod = eval(config.COLS_ONEHOT_ENCODE) # TODO: declare explicitly\n",
    "target = config.TARGET\n",
    "models_bench = [LogisticRegression(), MultinomialNB(), GaussianNB(), KNeighborsClassifier(), \n",
    "          SVC(), RandomForestClassifier()]\n",
    "scaler_bench = MinMaxScaler()\n",
    "encoder_bench = OneHotEncoder()"
   ]
  },
  {
   "cell_type": "code",
   "execution_count": 15,
   "metadata": {},
   "outputs": [
    {
     "name": "stdout",
     "output_type": "stream",
     "text": [
      "Model:  LogisticRegression\n",
      "              precision    recall  f1-score   support\n",
      "\n",
      "          No       0.98      0.67      0.79      4241\n",
      "         Yes       0.11      0.72      0.20       253\n",
      "\n",
      "    accuracy                           0.67      4494\n",
      "   macro avg       0.55      0.69      0.49      4494\n",
      "weighted avg       0.93      0.67      0.76      4494\n",
      "\n",
      "\n",
      "Model:  MultinomialNB\n",
      "              precision    recall  f1-score   support\n",
      "\n",
      "          No       0.98      0.66      0.79      4241\n",
      "         Yes       0.12      0.74      0.20       253\n",
      "\n",
      "    accuracy                           0.67      4494\n",
      "   macro avg       0.55      0.70      0.49      4494\n",
      "weighted avg       0.93      0.67      0.76      4494\n",
      "\n",
      "\n",
      "Model:  GaussianNB\n",
      "              precision    recall  f1-score   support\n",
      "\n",
      "          No       0.97      0.70      0.82      4241\n",
      "         Yes       0.12      0.65      0.20       253\n",
      "\n",
      "    accuracy                           0.70      4494\n",
      "   macro avg       0.54      0.68      0.51      4494\n",
      "weighted avg       0.92      0.70      0.78      4494\n",
      "\n",
      "\n",
      "Model:  KNeighborsClassifier\n",
      "              precision    recall  f1-score   support\n",
      "\n",
      "          No       0.95      0.80      0.87      4241\n",
      "         Yes       0.08      0.30      0.13       253\n",
      "\n",
      "    accuracy                           0.78      4494\n",
      "   macro avg       0.52      0.55      0.50      4494\n",
      "weighted avg       0.90      0.78      0.83      4494\n",
      "\n",
      "\n",
      "Model:  SVC\n",
      "              precision    recall  f1-score   support\n",
      "\n",
      "          No       0.96      0.74      0.84      4241\n",
      "         Yes       0.11      0.54      0.18       253\n",
      "\n",
      "    accuracy                           0.73      4494\n",
      "   macro avg       0.54      0.64      0.51      4494\n",
      "weighted avg       0.92      0.73      0.80      4494\n",
      "\n",
      "\n",
      "Model:  RandomForestClassifier\n",
      "              precision    recall  f1-score   support\n",
      "\n",
      "          No       0.95      0.97      0.96      4241\n",
      "         Yes       0.13      0.07      0.09       253\n",
      "\n",
      "    accuracy                           0.92      4494\n",
      "   macro avg       0.54      0.52      0.53      4494\n",
      "weighted avg       0.90      0.92      0.91      4494\n",
      "\n",
      "\n"
     ]
    }
   ],
   "source": [
    "# Benchmark models performances\n",
    "y_true_bench, y_pred_bench = [], []\n",
    "for model in models_bench:\n",
    "    print('Model: ', str(model).strip('()')) \n",
    "    y_test, predictions, report = sktools.score_classification_model(\n",
    "                                df=df,\n",
    "                                target=target,\n",
    "                                model=model,\n",
    "                                cols_to_encode=[cols_onehot_encod],\n",
    "                                scaler=scaler_bench,\n",
    "                                encoders=[encoder_bench],\n",
    "                                balance_dataset=True,\n",
    "                                balancer=SMOTE()\n",
    "    )\n",
    "    y_true_bench.append(y_test)\n",
    "    y_pred_bench.append(predictions)\n",
    "    print(report, end='\\n\\n')"
   ]
  },
  {
   "cell_type": "markdown",
   "metadata": {},
   "source": [
    "How can we measure our models performance? We are interested obviously to have  <br>\n",
    "an high recall on the 'Yes' class, meaning that we want to be sure to target all <br>\n",
    "possible customers that will accept the card offer. <br>\n",
    "However, during the following paragraphs it is possible to see that with the <br>\n",
    "'high' recall comes a low 'precision' on the 'Yes' class. <br>\n",
    "Let's take a look to recall and auc-roc score for these benchmark models below:"
   ]
  },
  {
   "cell_type": "code",
   "execution_count": 16,
   "metadata": {},
   "outputs": [
    {
     "data": {
      "text/html": [
       "<div>\n",
       "<style scoped>\n",
       "    .dataframe tbody tr th:only-of-type {\n",
       "        vertical-align: middle;\n",
       "    }\n",
       "\n",
       "    .dataframe tbody tr th {\n",
       "        vertical-align: top;\n",
       "    }\n",
       "\n",
       "    .dataframe thead th {\n",
       "        text-align: right;\n",
       "    }\n",
       "</style>\n",
       "<table border=\"1\" class=\"dataframe\">\n",
       "  <thead>\n",
       "    <tr style=\"text-align: right;\">\n",
       "      <th></th>\n",
       "      <th>model</th>\n",
       "      <th>recall_score</th>\n",
       "    </tr>\n",
       "  </thead>\n",
       "  <tbody>\n",
       "    <tr>\n",
       "      <th>0</th>\n",
       "      <td>MultinomialNB()</td>\n",
       "      <td>0.73913</td>\n",
       "    </tr>\n",
       "    <tr>\n",
       "      <th>1</th>\n",
       "      <td>LogisticRegression()</td>\n",
       "      <td>0.72332</td>\n",
       "    </tr>\n",
       "    <tr>\n",
       "      <th>2</th>\n",
       "      <td>GaussianNB()</td>\n",
       "      <td>0.652174</td>\n",
       "    </tr>\n",
       "    <tr>\n",
       "      <th>3</th>\n",
       "      <td>SVC()</td>\n",
       "      <td>0.541502</td>\n",
       "    </tr>\n",
       "    <tr>\n",
       "      <th>4</th>\n",
       "      <td>KNeighborsClassifier()</td>\n",
       "      <td>0.304348</td>\n",
       "    </tr>\n",
       "    <tr>\n",
       "      <th>5</th>\n",
       "      <td>(DecisionTreeClassifier(max_features='auto', r...</td>\n",
       "      <td>0.071146</td>\n",
       "    </tr>\n",
       "  </tbody>\n",
       "</table>\n",
       "</div>"
      ],
      "text/plain": [
       "                                               model recall_score\n",
       "0                                    MultinomialNB()      0.73913\n",
       "1                               LogisticRegression()      0.72332\n",
       "2                                       GaussianNB()     0.652174\n",
       "3                                              SVC()     0.541502\n",
       "4                             KNeighborsClassifier()     0.304348\n",
       "5  (DecisionTreeClassifier(max_features='auto', r...     0.071146"
      ]
     },
     "execution_count": 16,
     "metadata": {},
     "output_type": "execute_result"
    },
    {
     "data": {
      "image/png": "[encoded data removed]",
      "text/plain": [
       "<Figure size 936x720 with 1 Axes>"
      ]
     },
     "metadata": {
      "needs_background": "light"
     },
     "output_type": "display_data"
    }
   ],
   "source": [
    "import importlib\n",
    "importlib.reload(metrics)\n",
    "params_bench = dict(model=models_bench)\n",
    "metrics.report_metrics(params=params_bench,\n",
    "                       metric=recall_score,\n",
    "                       label='Yes',\n",
    "                       all_true=y_true_bench,\n",
    "                       all_pred=y_pred_bench,\n",
    "                       sort_by_metric=True,\n",
    "                       show_plot=True,\n",
    "                       figsize=(13, 10),\n",
    "                       )"
   ]
  },
  {
   "cell_type": "markdown",
   "metadata": {},
   "source": [
    "### Models optimization\n",
    "1. Scaling methods\n",
    "2. Encoding methods\n",
    "3. Outliers handling\n",
    "4. Multicollinearity \n",
    "5. Balancing methods\n",
    "6. ML model tuning"
   ]
  },
  {
   "cell_type": "markdown",
   "metadata": {},
   "source": [
    "Logistic Regression and Naive Bayes (Multinomial) models seem to have the best <br> \n",
    "performance on the classification. <br>\n",
    "Logistic Regression and Naive Bayes (Multinomial) will now be optimized and lastly <br>\n",
    "a Grid Optimization will be tried on the SVC, Logistic Regression (and maybe Random forests) <br>\n"
   ]
  },
  {
   "cell_type": "markdown",
   "metadata": {},
   "source": [
    "#### 1. Scaling Methods"
   ]
  },
  {
   "cell_type": "code",
   "execution_count": 17,
   "metadata": {},
   "outputs": [
    {
     "name": "stdout",
     "output_type": "stream",
     "text": [
      "Model:  LogisticRegression\n",
      "Scaler:  StandardScaler\n",
      "              precision    recall  f1-score   support\n",
      "\n",
      "          No       0.97      0.68      0.80      4241\n",
      "         Yes       0.12      0.70      0.20       253\n",
      "\n",
      "    accuracy                           0.68      4494\n",
      "   macro avg       0.55      0.69      0.50      4494\n",
      "weighted avg       0.93      0.68      0.77      4494\n",
      "\n",
      "\n",
      "Model:  LogisticRegression\n",
      "Scaler:  MinMaxScaler\n",
      "              precision    recall  f1-score   support\n",
      "\n",
      "          No       0.98      0.67      0.79      4241\n",
      "         Yes       0.11      0.72      0.20       253\n",
      "\n",
      "    accuracy                           0.67      4494\n",
      "   macro avg       0.55      0.70      0.50      4494\n",
      "weighted avg       0.93      0.67      0.76      4494\n",
      "\n",
      "\n",
      "Model:  LogisticRegression\n",
      "Scaler:  Normalizer\n",
      "              precision    recall  f1-score   support\n",
      "\n",
      "          No       0.98      0.67      0.79      4241\n",
      "         Yes       0.12      0.75      0.20       253\n",
      "\n",
      "    accuracy                           0.67      4494\n",
      "   macro avg       0.55      0.71      0.50      4494\n",
      "weighted avg       0.93      0.67      0.76      4494\n",
      "\n",
      "\n",
      "Model:  LogisticRegression\n",
      "Scaler:  FunctionTransformer(func=<ufunc 'log'>\n",
      "              precision    recall  f1-score   support\n",
      "\n",
      "          No       0.98      0.68      0.80      4240\n",
      "         Yes       0.12      0.72      0.20       253\n",
      "\n",
      "    accuracy                           0.68      4493\n",
      "   macro avg       0.55      0.70      0.50      4493\n",
      "weighted avg       0.93      0.68      0.77      4493\n",
      "\n",
      "\n",
      "Model:  MultinomialNB\n",
      "Scaler:  StandardScaler\n",
      "****FAILED****\n",
      "\n",
      "Model:  MultinomialNB\n",
      "Scaler:  MinMaxScaler\n",
      "              precision    recall  f1-score   support\n",
      "\n",
      "          No       0.98      0.66      0.79      4241\n",
      "         Yes       0.11      0.74      0.20       253\n",
      "\n",
      "    accuracy                           0.66      4494\n",
      "   macro avg       0.55      0.70      0.49      4494\n",
      "weighted avg       0.93      0.66      0.75      4494\n",
      "\n",
      "\n",
      "Model:  MultinomialNB\n",
      "Scaler:  Normalizer\n",
      "              precision    recall  f1-score   support\n",
      "\n",
      "          No       0.98      0.67      0.79      4241\n",
      "         Yes       0.12      0.73      0.20       253\n",
      "\n",
      "    accuracy                           0.67      4494\n",
      "   macro avg       0.55      0.70      0.50      4494\n",
      "weighted avg       0.93      0.67      0.76      4494\n",
      "\n",
      "\n",
      "Model:  MultinomialNB\n",
      "Scaler:  FunctionTransformer(func=<ufunc 'log'>\n",
      "              precision    recall  f1-score   support\n",
      "\n",
      "          No       0.98      0.68      0.80      4240\n",
      "         Yes       0.12      0.73      0.20       253\n",
      "\n",
      "    accuracy                           0.68      4493\n",
      "   macro avg       0.55      0.70      0.50      4493\n",
      "weighted avg       0.93      0.68      0.77      4493\n",
      "\n",
      "\n"
     ]
    }
   ],
   "source": [
    "# Parameters definition\n",
    "scalers = [StandardScaler(), MinMaxScaler(), Normalizer(),\n",
    "            FunctionTransformer(np.log)]\n",
    "models = [LogisticRegression(), MultinomialNB()]\n",
    "all_test, all_pred, all_reports = [], [], []\n",
    "\n",
    "# Score models with different scalers and save the results\n",
    "for model in models:\n",
    "    for scaler in scalers:\n",
    "        print('Model: ', str(model).strip('()')) \n",
    "        print('Scaler: ', str(scaler).strip('()'))\n",
    "        try:\n",
    "            y_test, predictions, report = sktools.score_classification_model(\n",
    "                                    df=df,\n",
    "                                    target=target,\n",
    "                                    model=model,\n",
    "                                    cols_to_encode=[cols_onehot_encod],\n",
    "                                    scaler=scaler,\n",
    "                                    encoders=[OneHotEncoder()],\n",
    "                                    balance_dataset=True,\n",
    "                                    balancer=SMOTE(),\n",
    "            )\n",
    "            print(report, end='\\n\\n')\n",
    "            all_test.append(y_test)\n",
    "            all_pred.append(predictions)\n",
    "            all_reports.append(report)\n",
    "        except:\n",
    "            print('****FAILED****', end='\\n\\n')\n",
    "            all_test.append(np.nan)\n",
    "            all_pred.append(np.nan)\n",
    "            all_reports.append(np.nan)"
   ]
  },
  {
   "cell_type": "code",
   "execution_count": 18,
   "metadata": {},
   "outputs": [
    {
     "data": {
      "text/html": [
       "<div>\n",
       "<style scoped>\n",
       "    .dataframe tbody tr th:only-of-type {\n",
       "        vertical-align: middle;\n",
       "    }\n",
       "\n",
       "    .dataframe tbody tr th {\n",
       "        vertical-align: top;\n",
       "    }\n",
       "\n",
       "    .dataframe thead th {\n",
       "        text-align: right;\n",
       "    }\n",
       "</style>\n",
       "<table border=\"1\" class=\"dataframe\">\n",
       "  <thead>\n",
       "    <tr style=\"text-align: right;\">\n",
       "      <th></th>\n",
       "      <th>models</th>\n",
       "      <th>scalers</th>\n",
       "      <th>recall_score</th>\n",
       "    </tr>\n",
       "  </thead>\n",
       "  <tbody>\n",
       "    <tr>\n",
       "      <th>0</th>\n",
       "      <td>LogisticRegression()</td>\n",
       "      <td>Normalizer()</td>\n",
       "      <td>0.750988</td>\n",
       "    </tr>\n",
       "    <tr>\n",
       "      <th>1</th>\n",
       "      <td>MultinomialNB()</td>\n",
       "      <td>MinMaxScaler()</td>\n",
       "      <td>0.743083</td>\n",
       "    </tr>\n",
       "    <tr>\n",
       "      <th>2</th>\n",
       "      <td>MultinomialNB()</td>\n",
       "      <td>Normalizer()</td>\n",
       "      <td>0.727273</td>\n",
       "    </tr>\n",
       "    <tr>\n",
       "      <th>3</th>\n",
       "      <td>MultinomialNB()</td>\n",
       "      <td>FunctionTransformer(func=&lt;ufunc 'log'&gt;)</td>\n",
       "      <td>0.727273</td>\n",
       "    </tr>\n",
       "    <tr>\n",
       "      <th>4</th>\n",
       "      <td>LogisticRegression()</td>\n",
       "      <td>MinMaxScaler()</td>\n",
       "      <td>0.72332</td>\n",
       "    </tr>\n",
       "    <tr>\n",
       "      <th>5</th>\n",
       "      <td>LogisticRegression()</td>\n",
       "      <td>FunctionTransformer(func=&lt;ufunc 'log'&gt;)</td>\n",
       "      <td>0.715415</td>\n",
       "    </tr>\n",
       "    <tr>\n",
       "      <th>6</th>\n",
       "      <td>LogisticRegression()</td>\n",
       "      <td>StandardScaler()</td>\n",
       "      <td>0.703557</td>\n",
       "    </tr>\n",
       "    <tr>\n",
       "      <th>7</th>\n",
       "      <td>MultinomialNB()</td>\n",
       "      <td>StandardScaler()</td>\n",
       "      <td>NaN</td>\n",
       "    </tr>\n",
       "  </tbody>\n",
       "</table>\n",
       "</div>"
      ],
      "text/plain": [
       "                 models                                  scalers recall_score\n",
       "0  LogisticRegression()                             Normalizer()     0.750988\n",
       "1       MultinomialNB()                           MinMaxScaler()     0.743083\n",
       "2       MultinomialNB()                             Normalizer()     0.727273\n",
       "3       MultinomialNB()  FunctionTransformer(func=<ufunc 'log'>)     0.727273\n",
       "4  LogisticRegression()                           MinMaxScaler()      0.72332\n",
       "5  LogisticRegression()  FunctionTransformer(func=<ufunc 'log'>)     0.715415\n",
       "6  LogisticRegression()                         StandardScaler()     0.703557\n",
       "7       MultinomialNB()                         StandardScaler()          NaN"
      ]
     },
     "execution_count": 18,
     "metadata": {},
     "output_type": "execute_result"
    },
    {
     "data": {
      "image/png": "[encoded data removed]",
      "text/plain": [
       "<Figure size 720x432 with 1 Axes>"
      ]
     },
     "metadata": {
      "needs_background": "light"
     },
     "output_type": "display_data"
    }
   ],
   "source": [
    "import importlib\n",
    "importlib.reload(metrics)\n",
    "# metrics report and plot for different scalers\n",
    "params = OrderedDict(\n",
    "    models = [LogisticRegression(), MultinomialNB()],\n",
    "    scalers = [StandardScaler(), MinMaxScaler(), Normalizer(),\n",
    "            FunctionTransformer(np.log)]\n",
    ")\n",
    "metrics.report_metrics(params, recall_score, all_test, all_pred, label='Yes',\n",
    "                        sort_by_metric=True, show_plot=True, hue='models')"
   ]
  },
  {
   "cell_type": "markdown",
   "metadata": {},
   "source": [
    "Seems like Normalization is slightly better for both reference model. <br>\n",
    "Multinomial Naive Bayes needs only positive values in oreder to work,"
   ]
  },
  {
   "cell_type": "markdown",
   "metadata": {},
   "source": [
    "#### 2. Encoding Methods"
   ]
  },
  {
   "cell_type": "code",
   "execution_count": 19,
   "metadata": {},
   "outputs": [
    {
     "name": "stdout",
     "output_type": "stream",
     "text": [
      "Model:  LogisticRegression\n",
      "Encoder:  OrdinalEncoder\n",
      "              precision    recall  f1-score   support\n",
      "\n",
      "          No       0.97      0.60      0.74      4241\n",
      "         Yes       0.09      0.64      0.15       253\n",
      "\n",
      "    accuracy                           0.60      4494\n",
      "   macro avg       0.53      0.62      0.44      4494\n",
      "weighted avg       0.92      0.60      0.70      4494\n",
      "\n",
      "\n",
      "Model:  LogisticRegression\n",
      "Encoder:  OneHotEncoder\n",
      "              precision    recall  f1-score   support\n",
      "\n",
      "          No       0.98      0.67      0.79      4241\n",
      "         Yes       0.12      0.74      0.20       253\n",
      "\n",
      "    accuracy                           0.67      4494\n",
      "   macro avg       0.55      0.71      0.50      4494\n",
      "weighted avg       0.93      0.67      0.76      4494\n",
      "\n",
      "\n",
      "Model:  MultinomialNB\n",
      "Encoder:  OrdinalEncoder\n",
      "              precision    recall  f1-score   support\n",
      "\n",
      "          No       0.96      0.56      0.71      4241\n",
      "         Yes       0.08      0.64      0.14       253\n",
      "\n",
      "    accuracy                           0.57      4494\n",
      "   macro avg       0.52      0.60      0.43      4494\n",
      "weighted avg       0.91      0.57      0.68      4494\n",
      "\n",
      "\n",
      "Model:  MultinomialNB\n",
      "Encoder:  OneHotEncoder\n",
      "              precision    recall  f1-score   support\n",
      "\n",
      "          No       0.98      0.66      0.79      4241\n",
      "         Yes       0.12      0.75      0.20       253\n",
      "\n",
      "    accuracy                           0.66      4494\n",
      "   macro avg       0.55      0.71      0.49      4494\n",
      "weighted avg       0.93      0.66      0.75      4494\n",
      "\n",
      "\n"
     ]
    }
   ],
   "source": [
    "encoders = [OrdinalEncoder(), OneHotEncoder()]\n",
    "models = [LogisticRegression(), MultinomialNB()]\n",
    "all_test, all_pred, all_reports = [], [], []\n",
    "\n",
    "# Scaler influence on models performance\n",
    "for model in models:\n",
    "    for encoder in encoders:\n",
    "        print('Model: ', str(model).strip('()')) \n",
    "        print('Encoder: ', str(encoder).strip('()'))\n",
    "        try:\n",
    "            y_test, predictions, report = sktools.score_classification_model(\n",
    "                                    df=df,\n",
    "                                    target=target,\n",
    "                                    model=model,\n",
    "                                    cols_to_encode=[cols_onehot_encod],\n",
    "                                    scaler=Normalizer(),\n",
    "                                    encoders=[encoder],\n",
    "                                    balance_dataset=True,\n",
    "                                    balancer=SMOTE()\n",
    "            )\n",
    "            print(report, end='\\n\\n')\n",
    "            all_test.append(y_test)\n",
    "            all_pred.append(predictions)\n",
    "            all_reports.append(report)\n",
    "        except:\n",
    "            print('****FAILED****', end='\\n\\n')\n",
    "            all_test.append(np.nan)\n",
    "            all_pred.append(np.nan)\n",
    "            all_reports.append(np.nan)"
   ]
  },
  {
   "cell_type": "code",
   "execution_count": 20,
   "metadata": {},
   "outputs": [
    {
     "data": {
      "text/html": [
       "<div>\n",
       "<style scoped>\n",
       "    .dataframe tbody tr th:only-of-type {\n",
       "        vertical-align: middle;\n",
       "    }\n",
       "\n",
       "    .dataframe tbody tr th {\n",
       "        vertical-align: top;\n",
       "    }\n",
       "\n",
       "    .dataframe thead th {\n",
       "        text-align: right;\n",
       "    }\n",
       "</style>\n",
       "<table border=\"1\" class=\"dataframe\">\n",
       "  <thead>\n",
       "    <tr style=\"text-align: right;\">\n",
       "      <th></th>\n",
       "      <th>models</th>\n",
       "      <th>encoders</th>\n",
       "      <th>recall_score</th>\n",
       "    </tr>\n",
       "  </thead>\n",
       "  <tbody>\n",
       "    <tr>\n",
       "      <th>0</th>\n",
       "      <td>MultinomialNB()</td>\n",
       "      <td>OneHotEncoder()</td>\n",
       "      <td>0.754941</td>\n",
       "    </tr>\n",
       "    <tr>\n",
       "      <th>1</th>\n",
       "      <td>LogisticRegression()</td>\n",
       "      <td>OneHotEncoder()</td>\n",
       "      <td>0.743083</td>\n",
       "    </tr>\n",
       "    <tr>\n",
       "      <th>2</th>\n",
       "      <td>LogisticRegression()</td>\n",
       "      <td>OrdinalEncoder()</td>\n",
       "      <td>0.640316</td>\n",
       "    </tr>\n",
       "    <tr>\n",
       "      <th>3</th>\n",
       "      <td>MultinomialNB()</td>\n",
       "      <td>OrdinalEncoder()</td>\n",
       "      <td>0.640316</td>\n",
       "    </tr>\n",
       "  </tbody>\n",
       "</table>\n",
       "</div>"
      ],
      "text/plain": [
       "                 models          encoders recall_score\n",
       "0       MultinomialNB()   OneHotEncoder()     0.754941\n",
       "1  LogisticRegression()   OneHotEncoder()     0.743083\n",
       "2  LogisticRegression()  OrdinalEncoder()     0.640316\n",
       "3       MultinomialNB()  OrdinalEncoder()     0.640316"
      ]
     },
     "execution_count": 20,
     "metadata": {},
     "output_type": "execute_result"
    },
    {
     "data": {
      "image/png": "[encoded data removed]",
      "text/plain": [
       "<Figure size 720x432 with 1 Axes>"
      ]
     },
     "metadata": {
      "needs_background": "light"
     },
     "output_type": "display_data"
    }
   ],
   "source": [
    "params = OrderedDict(\n",
    "    models = [LogisticRegression(), MultinomialNB()],\n",
    "    encoders = [OrdinalEncoder(), OneHotEncoder()]\n",
    ")\n",
    "metrics.report_metrics(params, recall_score, all_test, all_pred, label='Yes',\n",
    "                        sort_by_metric=True, show_plot=True, hue='models')"
   ]
  },
  {
   "cell_type": "markdown",
   "metadata": {},
   "source": [
    "The OneHotEncoder gives the best performance"
   ]
  },
  {
   "cell_type": "markdown",
   "metadata": {},
   "source": [
    "#### 3. Multicollinearity"
   ]
  },
  {
   "cell_type": "markdown",
   "metadata": {},
   "source": [
    "With multicollinearity accounted, I see strong relation with avg_balance and <br> all the q-balances. As a first measure I drop avg_balance and I keep only <br> q1 and q3 balances due to their low correlation factors (more distance <br> in time). Model increase precision from 0.20 to 0.25."
   ]
  },
  {
   "cell_type": "code",
   "execution_count": 21,
   "metadata": {},
   "outputs": [
    {
     "data": {
      "text/html": [
       "<div>\n",
       "<style scoped>\n",
       "    .dataframe tbody tr th:only-of-type {\n",
       "        vertical-align: middle;\n",
       "    }\n",
       "\n",
       "    .dataframe tbody tr th {\n",
       "        vertical-align: top;\n",
       "    }\n",
       "\n",
       "    .dataframe thead th {\n",
       "        text-align: right;\n",
       "    }\n",
       "</style>\n",
       "<table border=\"1\" class=\"dataframe\">\n",
       "  <thead>\n",
       "    <tr style=\"text-align: right;\">\n",
       "      <th></th>\n",
       "      <th>feat1</th>\n",
       "      <th>feat2</th>\n",
       "      <th>corr</th>\n",
       "    </tr>\n",
       "  </thead>\n",
       "  <tbody>\n",
       "    <tr>\n",
       "      <th>0</th>\n",
       "      <td>average_balance</td>\n",
       "      <td>q2_balance</td>\n",
       "      <td>0.800285</td>\n",
       "    </tr>\n",
       "    <tr>\n",
       "      <th>1</th>\n",
       "      <td>average_balance</td>\n",
       "      <td>q1_balance</td>\n",
       "      <td>0.481507</td>\n",
       "    </tr>\n",
       "    <tr>\n",
       "      <th>2</th>\n",
       "      <td>average_balance</td>\n",
       "      <td>q3_balance</td>\n",
       "      <td>0.752741</td>\n",
       "    </tr>\n",
       "    <tr>\n",
       "      <th>3</th>\n",
       "      <td>average_balance</td>\n",
       "      <td>q4_balance</td>\n",
       "      <td>0.572380</td>\n",
       "    </tr>\n",
       "    <tr>\n",
       "      <th>4</th>\n",
       "      <td>q1_balance</td>\n",
       "      <td>q2_balance</td>\n",
       "      <td>0.483134</td>\n",
       "    </tr>\n",
       "    <tr>\n",
       "      <th>5</th>\n",
       "      <td>q2_balance</td>\n",
       "      <td>q3_balance</td>\n",
       "      <td>0.487710</td>\n",
       "    </tr>\n",
       "    <tr>\n",
       "      <th>6</th>\n",
       "      <td>q3_balance</td>\n",
       "      <td>q4_balance</td>\n",
       "      <td>0.565298</td>\n",
       "    </tr>\n",
       "  </tbody>\n",
       "</table>\n",
       "</div>"
      ],
      "text/plain": [
       "             feat1       feat2      corr\n",
       "0  average_balance  q2_balance  0.800285\n",
       "1  average_balance  q1_balance  0.481507\n",
       "2  average_balance  q3_balance  0.752741\n",
       "3  average_balance  q4_balance  0.572380\n",
       "4       q1_balance  q2_balance  0.483134\n",
       "5       q2_balance  q3_balance  0.487710\n",
       "6       q3_balance  q4_balance  0.565298"
      ]
     },
     "execution_count": 21,
     "metadata": {},
     "output_type": "execute_result"
    }
   ],
   "source": [
    "# Features with multicoll\n",
    "eda.report_multicoll(df)"
   ]
  },
  {
   "cell_type": "markdown",
   "metadata": {},
   "source": [
    "We can try to drop *average_balance* and we also note that multicollinearity <br>\n",
    "is present in consecutive quarter balance."
   ]
  },
  {
   "cell_type": "code",
   "execution_count": 22,
   "metadata": {},
   "outputs": [],
   "source": [
    "cols_to_drop_1 = []\n",
    "cols_to_drop_2 = ['average_balance', 'q1_balance', 'q3_balance']\n",
    "cols_to_drop_3 = ['average_balance', 'q2_balance', 'q4_balance']\n",
    "cols_to_drop_4 = ['average_balance']\n",
    "multicoll_drop = [cols_to_drop_1, cols_to_drop_2, cols_to_drop_3, cols_to_drop_4]"
   ]
  },
  {
   "cell_type": "code",
   "execution_count": 23,
   "metadata": {},
   "outputs": [
    {
     "name": "stdout",
     "output_type": "stream",
     "text": [
      "Model:  LogisticRegression\n",
      "Cols dropped -->  []\n",
      "              precision    recall  f1-score   support\n",
      "\n",
      "          No       0.98      0.67      0.80      4241\n",
      "         Yes       0.12      0.75      0.21       253\n",
      "\n",
      "    accuracy                           0.68      4494\n",
      "   macro avg       0.55      0.71      0.50      4494\n",
      "weighted avg       0.93      0.68      0.76      4494\n",
      "\n",
      "\n",
      "Model:  LogisticRegression\n",
      "Cols dropped -->  ['average_balance', 'q1_balance', 'q3_balance']\n",
      "              precision    recall  f1-score   support\n",
      "\n",
      "          No       0.98      0.67      0.79      4241\n",
      "         Yes       0.12      0.75      0.21       253\n",
      "\n",
      "    accuracy                           0.67      4494\n",
      "   macro avg       0.55      0.71      0.50      4494\n",
      "weighted avg       0.93      0.67      0.76      4494\n",
      "\n",
      "\n",
      "Model:  LogisticRegression\n",
      "Cols dropped -->  ['average_balance', 'q2_balance', 'q4_balance']\n",
      "              precision    recall  f1-score   support\n",
      "\n",
      "          No       0.98      0.67      0.80      4241\n",
      "         Yes       0.12      0.75      0.21       253\n",
      "\n",
      "    accuracy                           0.67      4494\n",
      "   macro avg       0.55      0.71      0.50      4494\n",
      "weighted avg       0.93      0.67      0.76      4494\n",
      "\n",
      "\n",
      "Model:  LogisticRegression\n",
      "Cols dropped -->  ['average_balance']\n",
      "              precision    recall  f1-score   support\n",
      "\n",
      "          No       0.98      0.67      0.80      4241\n",
      "         Yes       0.12      0.75      0.21       253\n",
      "\n",
      "    accuracy                           0.68      4494\n",
      "   macro avg       0.55      0.71      0.50      4494\n",
      "weighted avg       0.93      0.68      0.76      4494\n",
      "\n",
      "\n",
      "Model:  MultinomialNB\n",
      "Cols dropped -->  []\n",
      "              precision    recall  f1-score   support\n",
      "\n",
      "          No       0.98      0.67      0.79      4241\n",
      "         Yes       0.12      0.73      0.20       253\n",
      "\n",
      "    accuracy                           0.67      4494\n",
      "   macro avg       0.55      0.70      0.50      4494\n",
      "weighted avg       0.93      0.67      0.76      4494\n",
      "\n",
      "\n",
      "Model:  MultinomialNB\n",
      "Cols dropped -->  ['average_balance', 'q1_balance', 'q3_balance']\n",
      "              precision    recall  f1-score   support\n",
      "\n",
      "          No       0.98      0.67      0.79      4241\n",
      "         Yes       0.12      0.74      0.20       253\n",
      "\n",
      "    accuracy                           0.67      4494\n",
      "   macro avg       0.55      0.70      0.50      4494\n",
      "weighted avg       0.93      0.67      0.76      4494\n",
      "\n",
      "\n",
      "Model:  MultinomialNB\n",
      "Cols dropped -->  ['average_balance', 'q2_balance', 'q4_balance']\n",
      "              precision    recall  f1-score   support\n",
      "\n",
      "          No       0.98      0.65      0.78      4241\n",
      "         Yes       0.11      0.75      0.20       253\n",
      "\n",
      "    accuracy                           0.66      4494\n",
      "   macro avg       0.55      0.70      0.49      4494\n",
      "weighted avg       0.93      0.66      0.75      4494\n",
      "\n",
      "\n",
      "Model:  MultinomialNB\n",
      "Cols dropped -->  ['average_balance']\n",
      "              precision    recall  f1-score   support\n",
      "\n",
      "          No       0.98      0.67      0.79      4241\n",
      "         Yes       0.12      0.74      0.20       253\n",
      "\n",
      "    accuracy                           0.67      4494\n",
      "   macro avg       0.55      0.70      0.50      4494\n",
      "weighted avg       0.93      0.67      0.76      4494\n",
      "\n",
      "\n"
     ]
    }
   ],
   "source": [
    "models = [LogisticRegression(), MultinomialNB()]\n",
    "all_test, all_pred, all_reports = [], [], []\n",
    "\n",
    "# Scaler influence on models performance\n",
    "for model in models:\n",
    "    for cols_to_drop in multicoll_drop:\n",
    "        print('Model: ', str(model).strip('()')) \n",
    "        print('Cols dropped --> ',cols_to_drop)\n",
    "        df_multicoll = df.drop(cols_to_drop, axis=1)\n",
    "        try:\n",
    "            y_test, predictions, report = sktools.score_classification_model(\n",
    "                                    df=df_multicoll,\n",
    "                                    target=target,\n",
    "                                    model=model,\n",
    "                                    cols_to_encode=[cols_onehot_encod],\n",
    "                                    scaler=Normalizer(),\n",
    "                                    encoders=[OneHotEncoder()],\n",
    "                                    balance_dataset=True,\n",
    "                                    balancer=SMOTE()\n",
    "            )\n",
    "            print(report, end='\\n\\n')\n",
    "            all_test.append(y_test)\n",
    "            all_pred.append(predictions)\n",
    "            all_reports.append(report)\n",
    "        except:\n",
    "            print('****FAILED****', end='\\n\\n')\n",
    "            all_test.append(np.nan)\n",
    "            all_pred.append(np.nan)\n",
    "            all_reports.append(np.nan)"
   ]
  },
  {
   "cell_type": "code",
   "execution_count": 24,
   "metadata": {},
   "outputs": [
    {
     "data": {
      "text/html": [
       "<div>\n",
       "<style scoped>\n",
       "    .dataframe tbody tr th:only-of-type {\n",
       "        vertical-align: middle;\n",
       "    }\n",
       "\n",
       "    .dataframe tbody tr th {\n",
       "        vertical-align: top;\n",
       "    }\n",
       "\n",
       "    .dataframe thead th {\n",
       "        text-align: right;\n",
       "    }\n",
       "</style>\n",
       "<table border=\"1\" class=\"dataframe\">\n",
       "  <thead>\n",
       "    <tr style=\"text-align: right;\">\n",
       "      <th></th>\n",
       "      <th>models</th>\n",
       "      <th>cols_dropped</th>\n",
       "      <th>recall_score</th>\n",
       "    </tr>\n",
       "  </thead>\n",
       "  <tbody>\n",
       "    <tr>\n",
       "      <th>0</th>\n",
       "      <td>LogisticRegression()</td>\n",
       "      <td>[average_balance, q1_balance, q3_balance]</td>\n",
       "      <td>0.754941</td>\n",
       "    </tr>\n",
       "    <tr>\n",
       "      <th>1</th>\n",
       "      <td>MultinomialNB()</td>\n",
       "      <td>[average_balance, q2_balance, q4_balance]</td>\n",
       "      <td>0.754941</td>\n",
       "    </tr>\n",
       "    <tr>\n",
       "      <th>2</th>\n",
       "      <td>LogisticRegression()</td>\n",
       "      <td>[]</td>\n",
       "      <td>0.750988</td>\n",
       "    </tr>\n",
       "    <tr>\n",
       "      <th>3</th>\n",
       "      <td>LogisticRegression()</td>\n",
       "      <td>[average_balance, q2_balance, q4_balance]</td>\n",
       "      <td>0.747036</td>\n",
       "    </tr>\n",
       "    <tr>\n",
       "      <th>4</th>\n",
       "      <td>LogisticRegression()</td>\n",
       "      <td>[average_balance]</td>\n",
       "      <td>0.747036</td>\n",
       "    </tr>\n",
       "    <tr>\n",
       "      <th>5</th>\n",
       "      <td>MultinomialNB()</td>\n",
       "      <td>[average_balance, q1_balance, q3_balance]</td>\n",
       "      <td>0.735178</td>\n",
       "    </tr>\n",
       "    <tr>\n",
       "      <th>6</th>\n",
       "      <td>MultinomialNB()</td>\n",
       "      <td>[average_balance]</td>\n",
       "      <td>0.735178</td>\n",
       "    </tr>\n",
       "    <tr>\n",
       "      <th>7</th>\n",
       "      <td>MultinomialNB()</td>\n",
       "      <td>[]</td>\n",
       "      <td>0.731225</td>\n",
       "    </tr>\n",
       "  </tbody>\n",
       "</table>\n",
       "</div>"
      ],
      "text/plain": [
       "                 models                               cols_dropped  \\\n",
       "0  LogisticRegression()  [average_balance, q1_balance, q3_balance]   \n",
       "1       MultinomialNB()  [average_balance, q2_balance, q4_balance]   \n",
       "2  LogisticRegression()                                         []   \n",
       "3  LogisticRegression()  [average_balance, q2_balance, q4_balance]   \n",
       "4  LogisticRegression()                          [average_balance]   \n",
       "5       MultinomialNB()  [average_balance, q1_balance, q3_balance]   \n",
       "6       MultinomialNB()                          [average_balance]   \n",
       "7       MultinomialNB()                                         []   \n",
       "\n",
       "  recall_score  \n",
       "0     0.754941  \n",
       "1     0.754941  \n",
       "2     0.750988  \n",
       "3     0.747036  \n",
       "4     0.747036  \n",
       "5     0.735178  \n",
       "6     0.735178  \n",
       "7     0.731225  "
      ]
     },
     "execution_count": 24,
     "metadata": {},
     "output_type": "execute_result"
    },
    {
     "data": {
      "image/png": "[encoded data removed]",
      "text/plain": [
       "<Figure size 720x432 with 1 Axes>"
      ]
     },
     "metadata": {
      "needs_background": "light"
     },
     "output_type": "display_data"
    }
   ],
   "source": [
    "params = OrderedDict(\n",
    "    models = [LogisticRegression(), MultinomialNB()],\n",
    "    cols_dropped = multicoll_drop\n",
    ")\n",
    "metrics.report_metrics(params, recall_score, all_test, all_pred, label='Yes',\n",
    "                        sort_by_metric=True, show_plot=True, hue='models')"
   ]
  },
  {
   "cell_type": "markdown",
   "metadata": {},
   "source": [
    "#### 4. Outliers (threshold optimization)"
   ]
  },
  {
   "cell_type": "code",
   "execution_count": 25,
   "metadata": {},
   "outputs": [],
   "source": [
    "# optimized parameters\n",
    "# accounted multicoll\n",
    "cols_to_drop = ['average_balance', 'q1_balance', 'q3_balance']\n",
    "# model\n",
    "models = [MultinomialNB(), LogisticRegression()]\n",
    "# encoder\n",
    "encoder = OneHotEncoder()\n",
    "# scaler\n",
    "scaler = Normalizer()\n",
    "# reduced dataset\n",
    "df_reduced = df.drop(cols_to_drop_2, axis=1)\n"
   ]
  },
  {
   "cell_type": "code",
   "execution_count": 26,
   "metadata": {},
   "outputs": [
    {
     "name": "stdout",
     "output_type": "stream",
     "text": [
      "Model:  MultinomialNB\n",
      "Threshold for outliers:  None\n",
      "              precision    recall  f1-score   support\n",
      "\n",
      "          No       0.98      0.66      0.79      4241\n",
      "         Yes       0.12      0.75      0.20       253\n",
      "\n",
      "    accuracy                           0.66      4494\n",
      "   macro avg       0.55      0.71      0.49      4494\n",
      "weighted avg       0.93      0.66      0.75      4494\n",
      "\n",
      "\n",
      "Model:  MultinomialNB\n",
      "Threshold for outliers:  1.5\n",
      "              precision    recall  f1-score   support\n",
      "\n",
      "          No       0.98      0.64      0.77      4092\n",
      "         Yes       0.12      0.77      0.21       271\n",
      "\n",
      "    accuracy                           0.65      4363\n",
      "   macro avg       0.55      0.70      0.49      4363\n",
      "weighted avg       0.92      0.65      0.74      4363\n",
      "\n",
      "\n",
      "Model:  MultinomialNB\n",
      "Threshold for outliers:  2\n",
      "              precision    recall  f1-score   support\n",
      "\n",
      "          No       0.97      0.66      0.79      4092\n",
      "         Yes       0.11      0.65      0.19       272\n",
      "\n",
      "    accuracy                           0.66      4364\n",
      "   macro avg       0.54      0.66      0.49      4364\n",
      "weighted avg       0.91      0.66      0.75      4364\n",
      "\n",
      "\n",
      "Model:  MultinomialNB\n",
      "Threshold for outliers:  2.5\n",
      "              precision    recall  f1-score   support\n",
      "\n",
      "          No       0.98      0.66      0.79      4231\n",
      "         Yes       0.12      0.73      0.20       262\n",
      "\n",
      "    accuracy                           0.67      4493\n",
      "   macro avg       0.55      0.70      0.50      4493\n",
      "weighted avg       0.93      0.67      0.76      4493\n",
      "\n",
      "\n",
      "Model:  MultinomialNB\n",
      "Threshold for outliers:  3\n",
      "              precision    recall  f1-score   support\n",
      "\n",
      "          No       0.97      0.67      0.79      4220\n",
      "         Yes       0.12      0.67      0.20       274\n",
      "\n",
      "    accuracy                           0.67      4494\n",
      "   macro avg       0.54      0.67      0.49      4494\n",
      "weighted avg       0.92      0.67      0.75      4494\n",
      "\n",
      "\n",
      "Model:  MultinomialNB\n",
      "Threshold for outliers:  3.5\n",
      "              precision    recall  f1-score   support\n",
      "\n",
      "          No       0.97      0.67      0.79      4216\n",
      "         Yes       0.12      0.68      0.20       278\n",
      "\n",
      "    accuracy                           0.67      4494\n",
      "   macro avg       0.54      0.67      0.50      4494\n",
      "weighted avg       0.92      0.67      0.75      4494\n",
      "\n",
      "\n",
      "Model:  LogisticRegression\n",
      "Threshold for outliers:  None\n",
      "              precision    recall  f1-score   support\n",
      "\n",
      "          No       0.98      0.67      0.80      4241\n",
      "         Yes       0.12      0.75      0.21       253\n",
      "\n",
      "    accuracy                           0.68      4494\n",
      "   macro avg       0.55      0.71      0.50      4494\n",
      "weighted avg       0.93      0.68      0.76      4494\n",
      "\n",
      "\n",
      "Model:  LogisticRegression\n",
      "Threshold for outliers:  1.5\n",
      "              precision    recall  f1-score   support\n",
      "\n",
      "          No       0.97      0.68      0.80      4092\n",
      "         Yes       0.13      0.72      0.22       271\n",
      "\n",
      "    accuracy                           0.68      4363\n",
      "   macro avg       0.55      0.70      0.51      4363\n",
      "weighted avg       0.92      0.68      0.77      4363\n",
      "\n",
      "\n",
      "Model:  LogisticRegression\n",
      "Threshold for outliers:  2\n",
      "              precision    recall  f1-score   support\n",
      "\n",
      "          No       0.97      0.67      0.79      4092\n",
      "         Yes       0.12      0.66      0.20       272\n",
      "\n",
      "    accuracy                           0.67      4364\n",
      "   macro avg       0.54      0.67      0.50      4364\n",
      "weighted avg       0.91      0.67      0.76      4364\n",
      "\n",
      "\n",
      "Model:  LogisticRegression\n",
      "Threshold for outliers:  2.5\n",
      "              precision    recall  f1-score   support\n",
      "\n",
      "          No       0.97      0.67      0.79      4231\n",
      "         Yes       0.12      0.70      0.20       262\n",
      "\n",
      "    accuracy                           0.67      4493\n",
      "   macro avg       0.54      0.68      0.49      4493\n",
      "weighted avg       0.92      0.67      0.76      4493\n",
      "\n",
      "\n",
      "Model:  LogisticRegression\n",
      "Threshold for outliers:  3\n",
      "              precision    recall  f1-score   support\n",
      "\n",
      "          No       0.97      0.68      0.80      4220\n",
      "         Yes       0.12      0.68      0.21       274\n",
      "\n",
      "    accuracy                           0.68      4494\n",
      "   macro avg       0.55      0.68      0.50      4494\n",
      "weighted avg       0.92      0.68      0.76      4494\n",
      "\n",
      "\n",
      "Model:  LogisticRegression\n",
      "Threshold for outliers:  3.5\n",
      "              precision    recall  f1-score   support\n",
      "\n",
      "          No       0.97      0.68      0.80      4216\n",
      "         Yes       0.12      0.68      0.21       278\n",
      "\n",
      "    accuracy                           0.68      4494\n",
      "   macro avg       0.55      0.68      0.50      4494\n",
      "weighted avg       0.92      0.68      0.76      4494\n",
      "\n",
      "\n"
     ]
    }
   ],
   "source": [
    "# optimize on threshold for dropping outliers\n",
    "thresholds = [None, 1.5, 2, 2.5, 3, 3.5]\n",
    "skip_cols = ['bank_accounts_open', 'homes_owned', 'household_size']\n",
    "all_test, all_pred, all_reports = [], [], []\n",
    "for model in models:\n",
    "    for threshold in thresholds:\n",
    "        print('Model: ', str(model).strip('()')) \n",
    "        print('Threshold for outliers: ',threshold)\n",
    "        df_reduced = df.drop(cols_to_drop, axis=1) # multicoll dropping\n",
    "        try:\n",
    "            y_test, predictions, report = sktools.score_classification_model(\n",
    "                                    df=df_multicoll,\n",
    "                                    target=target,\n",
    "                                    model=model,\n",
    "                                    cols_to_encode=[cols_onehot_encod],\n",
    "                                    scaler=scaler,\n",
    "                                    encoders=[encoder],\n",
    "                                    outsiders_thresh=threshold,\n",
    "                                    skip_outsiders_cols=skip_cols,\n",
    "                                    balance_dataset=True,\n",
    "                                    balancer=SMOTE()\n",
    "            )\n",
    "            print(report, end='\\n\\n')\n",
    "            all_test.append(y_test)\n",
    "            all_pred.append(predictions)\n",
    "            all_reports.append(report)\n",
    "        except:\n",
    "            print('****FAILED****', end='\\n\\n')\n",
    "            all_test.append(np.nan)\n",
    "            all_pred.append(np.nan)\n",
    "            all_reports.append(np.nan)"
   ]
  },
  {
   "cell_type": "code",
   "execution_count": 27,
   "metadata": {},
   "outputs": [
    {
     "data": {
      "text/html": [
       "<div>\n",
       "<style scoped>\n",
       "    .dataframe tbody tr th:only-of-type {\n",
       "        vertical-align: middle;\n",
       "    }\n",
       "\n",
       "    .dataframe tbody tr th {\n",
       "        vertical-align: top;\n",
       "    }\n",
       "\n",
       "    .dataframe thead th {\n",
       "        text-align: right;\n",
       "    }\n",
       "</style>\n",
       "<table border=\"1\" class=\"dataframe\">\n",
       "  <thead>\n",
       "    <tr style=\"text-align: right;\">\n",
       "      <th></th>\n",
       "      <th>models</th>\n",
       "      <th>outliers_treshold</th>\n",
       "      <th>recall_score</th>\n",
       "    </tr>\n",
       "  </thead>\n",
       "  <tbody>\n",
       "    <tr>\n",
       "      <th>0</th>\n",
       "      <td>MultinomialNB()</td>\n",
       "      <td>1.5</td>\n",
       "      <td>0.767528</td>\n",
       "    </tr>\n",
       "    <tr>\n",
       "      <th>1</th>\n",
       "      <td>MultinomialNB()</td>\n",
       "      <td>None</td>\n",
       "      <td>0.750988</td>\n",
       "    </tr>\n",
       "    <tr>\n",
       "      <th>2</th>\n",
       "      <td>LogisticRegression()</td>\n",
       "      <td>None</td>\n",
       "      <td>0.747036</td>\n",
       "    </tr>\n",
       "    <tr>\n",
       "      <th>3</th>\n",
       "      <td>MultinomialNB()</td>\n",
       "      <td>2.5</td>\n",
       "      <td>0.732824</td>\n",
       "    </tr>\n",
       "    <tr>\n",
       "      <th>4</th>\n",
       "      <td>LogisticRegression()</td>\n",
       "      <td>1.5</td>\n",
       "      <td>0.719557</td>\n",
       "    </tr>\n",
       "    <tr>\n",
       "      <th>5</th>\n",
       "      <td>LogisticRegression()</td>\n",
       "      <td>2.5</td>\n",
       "      <td>0.70229</td>\n",
       "    </tr>\n",
       "    <tr>\n",
       "      <th>6</th>\n",
       "      <td>MultinomialNB()</td>\n",
       "      <td>3.5</td>\n",
       "      <td>0.683453</td>\n",
       "    </tr>\n",
       "    <tr>\n",
       "      <th>7</th>\n",
       "      <td>LogisticRegression()</td>\n",
       "      <td>3.5</td>\n",
       "      <td>0.679856</td>\n",
       "    </tr>\n",
       "    <tr>\n",
       "      <th>8</th>\n",
       "      <td>LogisticRegression()</td>\n",
       "      <td>3</td>\n",
       "      <td>0.675182</td>\n",
       "    </tr>\n",
       "    <tr>\n",
       "      <th>9</th>\n",
       "      <td>MultinomialNB()</td>\n",
       "      <td>3</td>\n",
       "      <td>0.671533</td>\n",
       "    </tr>\n",
       "    <tr>\n",
       "      <th>10</th>\n",
       "      <td>LogisticRegression()</td>\n",
       "      <td>2</td>\n",
       "      <td>0.661765</td>\n",
       "    </tr>\n",
       "    <tr>\n",
       "      <th>11</th>\n",
       "      <td>MultinomialNB()</td>\n",
       "      <td>2</td>\n",
       "      <td>0.650735</td>\n",
       "    </tr>\n",
       "  </tbody>\n",
       "</table>\n",
       "</div>"
      ],
      "text/plain": [
       "                  models outliers_treshold recall_score\n",
       "0        MultinomialNB()               1.5     0.767528\n",
       "1        MultinomialNB()              None     0.750988\n",
       "2   LogisticRegression()              None     0.747036\n",
       "3        MultinomialNB()               2.5     0.732824\n",
       "4   LogisticRegression()               1.5     0.719557\n",
       "5   LogisticRegression()               2.5      0.70229\n",
       "6        MultinomialNB()               3.5     0.683453\n",
       "7   LogisticRegression()               3.5     0.679856\n",
       "8   LogisticRegression()                 3     0.675182\n",
       "9        MultinomialNB()                 3     0.671533\n",
       "10  LogisticRegression()                 2     0.661765\n",
       "11       MultinomialNB()                 2     0.650735"
      ]
     },
     "execution_count": 27,
     "metadata": {},
     "output_type": "execute_result"
    },
    {
     "data": {
      "image/png": "[encoded data removed]",
      "text/plain": [
       "<Figure size 720x432 with 1 Axes>"
      ]
     },
     "metadata": {
      "needs_background": "light"
     },
     "output_type": "display_data"
    }
   ],
   "source": [
    "params = OrderedDict(\n",
    "    models = [MultinomialNB(), LogisticRegression()],\n",
    "    outliers_treshold = thresholds\n",
    ")\n",
    "metrics.report_metrics(params, recall_score, all_test, all_pred, label='Yes',\n",
    "                        sort_by_metric=True, show_plot=True, hue='models')"
   ]
  },
  {
   "cell_type": "markdown",
   "metadata": {},
   "source": [
    "Outliers should not be dropped"
   ]
  },
  {
   "cell_type": "markdown",
   "metadata": {},
   "source": [
    "#### 5. Balancing Methods (Can SMOTE() be tuned? and Tomek Links?)"
   ]
  },
  {
   "cell_type": "code",
   "execution_count": 28,
   "metadata": {},
   "outputs": [],
   "source": [
    "# till now, I have identified following optimal parameters\n",
    "# accounted multicoll\n",
    "cols_to_drop = ['average_balance', 'q1_balance', 'q3_balance']\n",
    "# model\n",
    "model = MultinomialNB()\n",
    "# encoder\n",
    "encoder = OneHotEncoder()\n",
    "# scaler\n",
    "scaler = Normalizer()\n",
    "# reduced dataset\n",
    "df_reduced = df.drop(cols_to_drop_2, axis=1)\n",
    "# outliers\n",
    "threshold = None"
   ]
  },
  {
   "cell_type": "code",
   "execution_count": 29,
   "metadata": {},
   "outputs": [
    {
     "name": "stdout",
     "output_type": "stream",
     "text": [
      "Model:  MultinomialNB\n",
      "Balancer:  SMOTE()\n",
      "              precision    recall  f1-score   support\n",
      "\n",
      "          No       0.98      0.66      0.79      4241\n",
      "         Yes       0.12      0.74      0.20       253\n",
      "\n",
      "    accuracy                           0.67      4494\n",
      "   macro avg       0.55      0.70      0.50      4494\n",
      "weighted avg       0.93      0.67      0.76      4494\n",
      "\n",
      "\n",
      "Model:  MultinomialNB\n",
      "Balancer:  TomekLinks()\n",
      "              precision    recall  f1-score   support\n",
      "\n",
      "          No       0.94      1.00      0.97      4241\n",
      "         Yes       0.00      0.00      0.00       253\n",
      "\n",
      "    accuracy                           0.94      4494\n",
      "   macro avg       0.47      0.50      0.49      4494\n",
      "weighted avg       0.89      0.94      0.92      4494\n",
      "\n",
      "\n",
      "Model:  MultinomialNB\n",
      "Balancer:  SMOTEENN()\n",
      "              precision    recall  f1-score   support\n",
      "\n",
      "          No       0.98      0.60      0.74      4241\n",
      "         Yes       0.11      0.80      0.19       253\n",
      "\n",
      "    accuracy                           0.61      4494\n",
      "   macro avg       0.54      0.70      0.46      4494\n",
      "weighted avg       0.93      0.61      0.71      4494\n",
      "\n",
      "\n",
      "Model:  MultinomialNB\n",
      "Balancer:  SMOTETomek()\n",
      "              precision    recall  f1-score   support\n",
      "\n",
      "          No       0.98      0.66      0.79      4241\n",
      "         Yes       0.11      0.74      0.20       253\n",
      "\n",
      "    accuracy                           0.66      4494\n",
      "   macro avg       0.55      0.70      0.49      4494\n",
      "weighted avg       0.93      0.66      0.75      4494\n",
      "\n",
      "\n",
      "Model:  LogisticRegression\n",
      "Balancer:  SMOTE()\n",
      "              precision    recall  f1-score   support\n",
      "\n",
      "          No       0.98      0.67      0.80      4241\n",
      "         Yes       0.12      0.75      0.21       253\n",
      "\n",
      "    accuracy                           0.68      4494\n",
      "   macro avg       0.55      0.71      0.50      4494\n",
      "weighted avg       0.93      0.68      0.76      4494\n",
      "\n",
      "\n",
      "Model:  LogisticRegression\n",
      "Balancer:  TomekLinks()\n",
      "              precision    recall  f1-score   support\n",
      "\n",
      "          No       0.94      1.00      0.97      4241\n",
      "         Yes       0.00      0.00      0.00       253\n",
      "\n",
      "    accuracy                           0.94      4494\n",
      "   macro avg       0.47      0.50      0.49      4494\n",
      "weighted avg       0.89      0.94      0.92      4494\n",
      "\n",
      "\n",
      "Model:  LogisticRegression\n",
      "Balancer:  SMOTEENN()\n",
      "              precision    recall  f1-score   support\n",
      "\n",
      "          No       0.98      0.61      0.75      4241\n",
      "         Yes       0.11      0.79      0.19       253\n",
      "\n",
      "    accuracy                           0.62      4494\n",
      "   macro avg       0.54      0.70      0.47      4494\n",
      "weighted avg       0.93      0.62      0.72      4494\n",
      "\n",
      "\n",
      "Model:  LogisticRegression\n",
      "Balancer:  SMOTETomek()\n",
      "              precision    recall  f1-score   support\n",
      "\n",
      "          No       0.98      0.67      0.79      4241\n",
      "         Yes       0.12      0.74      0.20       253\n",
      "\n",
      "    accuracy                           0.67      4494\n",
      "   macro avg       0.55      0.71      0.50      4494\n",
      "weighted avg       0.93      0.67      0.76      4494\n",
      "\n",
      "\n"
     ]
    }
   ],
   "source": [
    "# optimize balancer\n",
    "models = [MultinomialNB(), LogisticRegression()]\n",
    "balancers = [SMOTE(), TomekLinks(), SMOTEENN(), SMOTETomek()]\n",
    "all_test, all_pred, all_reports = [], [], []\n",
    "\n",
    "for model in models:\n",
    "    for balancer in balancers:\n",
    "        print('Model: ', str(model).strip('()')) \n",
    "        print('Balancer: ', balancer)\n",
    "        df_reduced = df.drop(cols_to_drop, axis=1) # multicoll dropping\n",
    "        try:\n",
    "            y_test, predictions, report = sktools.score_classification_model(\n",
    "                                    df=df_multicoll,\n",
    "                                    target=target,\n",
    "                                    model=model,\n",
    "                                    cols_to_encode=[cols_onehot_encod],\n",
    "                                    scaler=scaler,\n",
    "                                    encoders=[encoder],\n",
    "                                    balance_dataset=True,\n",
    "                                    balancer=balancer\n",
    "            )\n",
    "            print(report, end='\\n\\n')\n",
    "            all_test.append(y_test)\n",
    "            all_pred.append(predictions)\n",
    "            all_reports.append(report)\n",
    "        except:\n",
    "            print('****FAILED****', end='\\n\\n')\n",
    "            all_test.append(np.nan)\n",
    "            all_pred.append(np.nan)\n",
    "            all_reports.append(np.nan)"
   ]
  },
  {
   "cell_type": "code",
   "execution_count": 30,
   "metadata": {},
   "outputs": [
    {
     "data": {
      "text/html": [
       "<div>\n",
       "<style scoped>\n",
       "    .dataframe tbody tr th:only-of-type {\n",
       "        vertical-align: middle;\n",
       "    }\n",
       "\n",
       "    .dataframe tbody tr th {\n",
       "        vertical-align: top;\n",
       "    }\n",
       "\n",
       "    .dataframe thead th {\n",
       "        text-align: right;\n",
       "    }\n",
       "</style>\n",
       "<table border=\"1\" class=\"dataframe\">\n",
       "  <thead>\n",
       "    <tr style=\"text-align: right;\">\n",
       "      <th></th>\n",
       "      <th>models</th>\n",
       "      <th>balancer</th>\n",
       "      <th>recall_score</th>\n",
       "    </tr>\n",
       "  </thead>\n",
       "  <tbody>\n",
       "    <tr>\n",
       "      <th>0</th>\n",
       "      <td>MultinomialNB()</td>\n",
       "      <td>SMOTEENN()</td>\n",
       "      <td>0.802372</td>\n",
       "    </tr>\n",
       "    <tr>\n",
       "      <th>1</th>\n",
       "      <td>LogisticRegression()</td>\n",
       "      <td>SMOTEENN()</td>\n",
       "      <td>0.790514</td>\n",
       "    </tr>\n",
       "    <tr>\n",
       "      <th>2</th>\n",
       "      <td>LogisticRegression()</td>\n",
       "      <td>SMOTE()</td>\n",
       "      <td>0.747036</td>\n",
       "    </tr>\n",
       "    <tr>\n",
       "      <th>3</th>\n",
       "      <td>MultinomialNB()</td>\n",
       "      <td>SMOTE()</td>\n",
       "      <td>0.743083</td>\n",
       "    </tr>\n",
       "    <tr>\n",
       "      <th>4</th>\n",
       "      <td>LogisticRegression()</td>\n",
       "      <td>SMOTETomek()</td>\n",
       "      <td>0.743083</td>\n",
       "    </tr>\n",
       "    <tr>\n",
       "      <th>5</th>\n",
       "      <td>MultinomialNB()</td>\n",
       "      <td>SMOTETomek()</td>\n",
       "      <td>0.73913</td>\n",
       "    </tr>\n",
       "    <tr>\n",
       "      <th>6</th>\n",
       "      <td>MultinomialNB()</td>\n",
       "      <td>TomekLinks()</td>\n",
       "      <td>0.0</td>\n",
       "    </tr>\n",
       "    <tr>\n",
       "      <th>7</th>\n",
       "      <td>LogisticRegression()</td>\n",
       "      <td>TomekLinks()</td>\n",
       "      <td>0.0</td>\n",
       "    </tr>\n",
       "  </tbody>\n",
       "</table>\n",
       "</div>"
      ],
      "text/plain": [
       "                 models      balancer recall_score\n",
       "0       MultinomialNB()    SMOTEENN()     0.802372\n",
       "1  LogisticRegression()    SMOTEENN()     0.790514\n",
       "2  LogisticRegression()       SMOTE()     0.747036\n",
       "3       MultinomialNB()       SMOTE()     0.743083\n",
       "4  LogisticRegression()  SMOTETomek()     0.743083\n",
       "5       MultinomialNB()  SMOTETomek()      0.73913\n",
       "6       MultinomialNB()  TomekLinks()          0.0\n",
       "7  LogisticRegression()  TomekLinks()          0.0"
      ]
     },
     "execution_count": 30,
     "metadata": {},
     "output_type": "execute_result"
    },
    {
     "data": {
      "image/png": "[encoded data removed]",
      "text/plain": [
       "<Figure size 720x432 with 1 Axes>"
      ]
     },
     "metadata": {
      "needs_background": "light"
     },
     "output_type": "display_data"
    }
   ],
   "source": [
    "params = OrderedDict(\n",
    "    models = [MultinomialNB(), LogisticRegression()],\n",
    "    balancer = [SMOTE(), TomekLinks(), SMOTEENN(), SMOTETomek()]\n",
    ")\n",
    "metrics.report_metrics(params, recall_score, all_test, all_pred, label='Yes',\n",
    "                        sort_by_metric=True, show_plot=True, hue='models')"
   ]
  },
  {
   "cell_type": "markdown",
   "metadata": {},
   "source": [
    "SmoteTomek it is my choice. It works similiarly on both models. <br>\n",
    "Tough fight betweem Logistic Regression and Naive Bayes classifier"
   ]
  },
  {
   "cell_type": "markdown",
   "metadata": {},
   "source": [
    "#### 6. Logistic Regression optimization"
   ]
  },
  {
   "cell_type": "code",
   "execution_count": 31,
   "metadata": {},
   "outputs": [],
   "source": [
    "# Preparing the model\n",
    "X_train, X_test, y_train, y_test = sktools.split_data(df_reduced,\n",
    "                                                        target = config.TARGET,\n",
    "                                                        test_size=0.3,\n",
    "                                                        random_state=42)\n",
    "sktools.scale_data(X_train, X_test, scaler_class=Normalizer())\n",
    "X_train, X_test = sktools.encode_data(X_train, X_test, encoders=[OneHotEncoder()],\n",
    "                                        cols_to_encode=[cols_onehot_encod])\n",
    "balancer = SMOTEENN()\n",
    "X_train, y_train = balancer.fit_resample(X_train, y_train)"
   ]
  },
  {
   "cell_type": "code",
   "execution_count": 32,
   "metadata": {},
   "outputs": [
    {
     "data": {
      "text/plain": [
       "GridSearchCV(cv=5, estimator=LogisticRegression(),\n",
       "             param_grid={'C': array([1.00000000e-04, 1.45634848e-04, 2.12095089e-04, 3.08884360e-04,\n",
       "       4.49843267e-04, 6.55128557e-04, 9.54095476e-04, 1.38949549e-03,\n",
       "       2.02358965e-03, 2.94705170e-03, 4.29193426e-03, 6.25055193e-03,\n",
       "       9.10298178e-03, 1.32571137e-02, 1.93069773e-02, 2.81176870e-02,\n",
       "       4.09491506e-02, 5.96362332e-02, 8.685113...\n",
       "       3.72759372e+00, 5.42867544e+00, 7.90604321e+00, 1.15139540e+01,\n",
       "       1.67683294e+01, 2.44205309e+01, 3.55648031e+01, 5.17947468e+01,\n",
       "       7.54312006e+01, 1.09854114e+02, 1.59985872e+02, 2.32995181e+02,\n",
       "       3.39322177e+02, 4.94171336e+02, 7.19685673e+02, 1.04811313e+03,\n",
       "       1.52641797e+03, 2.22299648e+03, 3.23745754e+03, 4.71486636e+03,\n",
       "       6.86648845e+03, 1.00000000e+04]),\n",
       "                         'penalty': ['l1', 'l2']},\n",
       "             scoring='roc_auc')"
      ]
     },
     "execution_count": 32,
     "metadata": {},
     "output_type": "execute_result"
    }
   ],
   "source": [
    "# Try an optimization of Logistic Regression\n",
    "# define parameters\n",
    "C = np.logspace(-4, 4, 50)\n",
    "penalty = ['l1', 'l2']\n",
    "model=LogisticRegression()\n",
    "grid = {'C': C, 'penalty': penalty}\n",
    "clf = GridSearchCV(estimator=model,\n",
    "                       param_grid=grid,\n",
    "                       cv=5,\n",
    "                       scoring='roc_auc')\n",
    "clf.fit(X_train, y_train)"
   ]
  },
  {
   "cell_type": "code",
   "execution_count": 33,
   "metadata": {},
   "outputs": [
    {
     "name": "stdout",
     "output_type": "stream",
     "text": [
      "Best C = 719.6856730011514\n",
      "Best penalty = l2\n"
     ]
    }
   ],
   "source": [
    "print('Best C =', clf.best_estimator_.get_params().get('C'))\n",
    "print('Best penalty =', clf.best_estimator_.get_params().get('penalty'))\n",
    "C_opt =  clf.best_estimator_.get_params().get('C')"
   ]
  },
  {
   "cell_type": "code",
   "execution_count": 34,
   "metadata": {},
   "outputs": [
    {
     "name": "stdout",
     "output_type": "stream",
     "text": [
      "              precision    recall  f1-score   support\n",
      "\n",
      "          No       0.98      0.66      0.79      4241\n",
      "         Yes       0.12      0.76      0.20       253\n",
      "\n",
      "    accuracy                           0.67      4494\n",
      "   macro avg       0.55      0.71      0.50      4494\n",
      "weighted avg       0.93      0.67      0.76      4494\n",
      "\n"
     ]
    }
   ],
   "source": [
    "# Optimized Logistic Regression\n",
    "y_test, predictions, report = sktools.score_classification_model(\n",
    "                                    df=df_reduced,\n",
    "                                    target=target,\n",
    "                                    model=LogisticRegression(C=C_opt),\n",
    "                                    cols_to_encode=[cols_onehot_encod],\n",
    "                                    scaler=Normalizer(),\n",
    "                                    encoders=[OneHotEncoder()],\n",
    "                                    balance_dataset=True,\n",
    "                                    balancer=SMOTEENN())\n",
    "print(report)"
   ]
  },
  {
   "cell_type": "markdown",
   "metadata": {},
   "source": [
    "### 7. SVC optimization"
   ]
  },
  {
   "cell_type": "code",
   "execution_count": 35,
   "metadata": {},
   "outputs": [],
   "source": [
    "# # Preparing the model\n",
    "# X_train, X_test, y_train, y_test = sktools.split_data(df_reduced,\n",
    "#                                                         target = config.TARGET,\n",
    "#                                                         test_size=0.3,\n",
    "#                                                         random_state=42)\n",
    "# sktools.scale_data(X_train, X_test, scaler_class=Normalizer())\n",
    "# X_train, X_test = sktools.encode_data(X_train, X_test, encoders=[OneHotEncoder()],\n",
    "#                                         cols_to_encode=[cols_onehot_encod])\n",
    "# balancer = SMOTETomek()\n",
    "# X_train, y_train = balancer.fit_resample(X_train, y_train)"
   ]
  },
  {
   "cell_type": "code",
   "execution_count": 36,
   "metadata": {},
   "outputs": [],
   "source": [
    "# # Try an optimization of SVC (this will take a long time)\n",
    "# # define parameters\n",
    "# grid = {'C': [0.1,1, 10, 100], \n",
    "#         'gamma': [1,0.1,0.01,0.001],\n",
    "#         'kernel': ['rbf', 'poly', 'sigmoid', 'linear']}\n",
    "\n",
    "# model=SVC()\n",
    "# clf = GridSearchCV(estimator=model,\n",
    "#                        param_grid=grid,\n",
    "#                        scoring='roc_auc',\n",
    "#                        verbose=2)\n",
    "# clf.fit(X_train, y_train)\n",
    "\n",
    "# # save object with pickle for reusability"
   ]
  },
  {
   "cell_type": "markdown",
   "metadata": {},
   "source": [
    "### Final Metrics of our model"
   ]
  },
  {
   "cell_type": "code",
   "execution_count": 37,
   "metadata": {},
   "outputs": [
    {
     "data": {
      "image/png": "[encoded data removed]",
      "text/plain": [
       "<Figure size 432x288 with 2 Axes>"
      ]
     },
     "metadata": {
      "needs_background": "light"
     },
     "output_type": "display_data"
    }
   ],
   "source": [
    "# Metrics of the chosen model\n",
    "metrics.plot_confusion_matrix(y_test, predictions)"
   ]
  },
  {
   "cell_type": "markdown",
   "metadata": {},
   "source": [
    "### Economic study"
   ]
  },
  {
   "cell_type": "markdown",
   "metadata": {},
   "source": [
    "It seems we have found our model for our business problem. With the Logistic <br>\n",
    "Regression algorithm we reach a recall (sensitivity) up to 76-77%. In these business <br>\n",
    "problems recall is one of the most important parameter beacuse is more useful to try to <br>\n",
    "find (predict) all the 'Yes' for the card-offer acceptance. Precision is low (0.11-0.12) <br>\n",
    "and that implies that we are going to predict a lot of 'Yes' that are actually 'No'. <br>\n",
    "Now that we have maximised the recall, we should find a trade-off to maximize revenue.\n"
   ]
  },
  {
   "cell_type": "markdown",
   "metadata": {},
   "source": [
    "Let’s suppose the management team now give us the following information:\n",
    " - The database contains 1 M of customers.\n",
    " - The cost of sending an email is 12 c$.\n",
    " - The offer acceptance brings to the company 100$\n",
    " - Every true positive means we have encountered the potential customer and he/she will accept offer <br> bringing to the company (+100$ - 12c$)\n",
    " - Every true negative mean we have correctly not send an email to a customer that will not accept <br> the offer (0$)\n",
    " - Every false negative mean we have lost an opportunity with a potential customer (-100$)\n",
    " - Every false positive mean we sent an email to a customer that will not accept the offer (-12c$)\n",
    "\n"
   ]
  },
  {
   "cell_type": "markdown",
   "metadata": {},
   "source": [
    "A stupid model will bring to the company:"
   ]
  },
  {
   "cell_type": "code",
   "execution_count": 38,
   "metadata": {},
   "outputs": [
    {
     "name": "stdout",
     "output_type": "stream",
     "text": [
      "Stupid model\n",
      "Revenue:  -4320.2 $\n"
     ]
    }
   ],
   "source": [
    "n_customers = 10000 # $\n",
    "customer_acceptance_gain = 10 # $\n",
    "email_cost = 1 # $\n",
    "historic_customer_acceptance_rate = df[target].value_counts()['Yes'] / (df[target].value_counts()['Yes'] +\n",
    "                                                                         df[target].value_counts()['No'])\n",
    "# a 'stupid' model sends email to all the customer and will get the historic rate of customer acceptance\n",
    "revenue =  - email_cost*n_customers + historic_customer_acceptance_rate*n_customers*customer_acceptance_gain\n",
    "print('Stupid model')\n",
    "print('Revenue: ', round(revenue, 2), '$')"
   ]
  },
  {
   "cell_type": "code",
   "execution_count": 62,
   "metadata": {},
   "outputs": [],
   "source": [
    "def calculate_revenue(y_test, predictions, n_customers, customer_acceptance_gain, email_cost):\n",
    "    \"\"\"Calculate revenue\"\"\"\n",
    "    if pd.Series(y_test).unique().dtype in [int, 'int32', 'int64']:\n",
    "        y_test = pd.Series(y_test).replace({0: 'No', 1: 'Yes'})\n",
    "    if pd.Series(predictions).unique().dtype in [int, 'int32', 'int64']:\n",
    "        predictions = pd.Series(predictions).replace({0: 'No', 1: 'Yes'})\n",
    "    \n",
    "    confusion = confusion_matrix(y_test, predictions)\n",
    "    TP = confusion[1, 1]*n_customers/(len(y_test)) # True positive\n",
    "    FP = confusion[0, 1]*n_customers/(len(y_test)) # False positive\n",
    "    FN = confusion[1, 0]*n_customers/(len(y_test)) # False negative\n",
    "    revenue = - email_cost*(TP+FP) - customer_acceptance_gain*(FN) + customer_acceptance_gain*(TP)\n",
    "    return revenue"
   ]
  },
  {
   "cell_type": "code",
   "execution_count": 40,
   "metadata": {},
   "outputs": [
    {
     "name": "stdout",
     "output_type": "stream",
     "text": [
      "Benchmark optimized model:\n",
      "-725.4116599910994\n"
     ]
    }
   ],
   "source": [
    "print('Benchmark optimized model:')\n",
    "print(\n",
    "    calculate_revenue(y_test, predictions, n_customers, customer_acceptance_gain, email_cost)\n",
    ")"
   ]
  },
  {
   "cell_type": "markdown",
   "metadata": {},
   "source": [
    "Optimized threshold for Logistic Regression"
   ]
  },
  {
   "cell_type": "code",
   "execution_count": 41,
   "metadata": {},
   "outputs": [],
   "source": [
    "# Apply Logistic Regression with optimized parameters and optimized threshold\n",
    "# Preparing the model\n",
    "X_train, X_test, y_train, y_test = sktools.split_data(df_reduced,\n",
    "                                                        target = config.TARGET,\n",
    "                                                        test_size=0.3,\n",
    "                                                        random_state=42)\n",
    "sktools.scale_data(X_train, X_test, scaler_class=Normalizer())\n",
    "X_train, X_test = sktools.encode_data(X_train, X_test, encoders=[OneHotEncoder()],\n",
    "                                        cols_to_encode=[cols_onehot_encod])\n",
    "balancer = SMOTEENN()\n",
    "X_train, y_train = balancer.fit_resample(X_train, y_train)"
   ]
  },
  {
   "cell_type": "code",
   "execution_count": 42,
   "metadata": {},
   "outputs": [
    {
     "name": "stdout",
     "output_type": "stream",
     "text": [
      "0.36324335001932573 0.5820004771809566\n",
      "tpr-fpr optimized model\n",
      "-880.7713702948276\n",
      "              precision    recall  f1-score   support\n",
      "\n",
      "          No       0.98      0.55      0.71      5079\n",
      "         Yes       0.10      0.83      0.18       314\n",
      "\n",
      "    accuracy                           0.57      5393\n",
      "   macro avg       0.54      0.69      0.44      5393\n",
      "weighted avg       0.93      0.57      0.68      5393\n",
      "\n"
     ]
    },
    {
     "data": {
      "image/png": "[encoded data removed]",
      "text/plain": [
       "<Figure size 432x288 with 2 Axes>"
      ]
     },
     "metadata": {
      "needs_background": "light"
     },
     "output_type": "display_data"
    }
   ],
   "source": [
    "# Apply model optimized in tpr-fpr\n",
    "model = LogisticRegressionWithThreshold()\n",
    "model.fit(X_train, y_train)\n",
    "\n",
    "threshold, optimal_tpr_minus_fpr = model.threshold_from_optimal_tpr_minus_fpr(X_train, y_train)\n",
    "y_pred = model.predict(X_test, threshold)\n",
    "\n",
    "print(threshold, optimal_tpr_minus_fpr)\n",
    "metrics.plot_confusion_matrix(y_test, pd.Series(y_pred).replace({0: 'No', 1: 'Yes'}))\n",
    "\n",
    "print('tpr-fpr optimized model')\n",
    "print(\n",
    "    calculate_revenue(y_test, y_pred, n_customers, customer_acceptance_gain, email_cost)\n",
    ")\n",
    "print(classification_report(y_test, pd.Series(y_pred).replace({0: 'No', 1: 'Yes'})))"
   ]
  },
  {
   "cell_type": "code",
   "execution_count": 43,
   "metadata": {},
   "outputs": [
    {
     "name": "stdout",
     "output_type": "stream",
     "text": [
      "0.9806152367315804 nan\n",
      "f1 optimized model\n",
      "-5794.548488781754\n",
      "              precision    recall  f1-score   support\n",
      "\n",
      "          No       0.94      1.00      0.97      5079\n",
      "         Yes       0.20      0.00      0.01       314\n",
      "\n",
      "    accuracy                           0.94      5393\n",
      "   macro avg       0.57      0.50      0.49      5393\n",
      "weighted avg       0.90      0.94      0.91      5393\n",
      "\n"
     ]
    },
    {
     "data": {
      "image/png": "[encoded data removed]",
      "text/plain": [
       "<Figure size 432x288 with 2 Axes>"
      ]
     },
     "metadata": {
      "needs_background": "light"
     },
     "output_type": "display_data"
    }
   ],
   "source": [
    "from src.utils import classes\n",
    "import importlib\n",
    "importlib.reload(classes)\n",
    "from src.utils.classes import LogisticRegressionWithThreshold\n",
    "# Apply model optimized in tpr-fpr\n",
    "model = LogisticRegressionWithThreshold()\n",
    "model.fit(X_train, y_train)\n",
    "\n",
    "threshold, optimal_f1_score = model.threshold_from_optimal_f_score(X_train, y_train)\n",
    "y_pred = model.predict(X_test, threshold)\n",
    "\n",
    "print(threshold, optimal_f1_score)\n",
    "metrics.plot_confusion_matrix(y_test, pd.Series(y_pred).replace({0: 'No', 1: 'Yes'}))\n",
    "\n",
    "print('f1 optimized model')\n",
    "print(\n",
    "    calculate_revenue(y_test, y_pred, n_customers, customer_acceptance_gain, email_cost)\n",
    ")\n",
    "print(classification_report(y_test, pd.Series(y_pred).replace({0: 'No', 1: 'Yes'})))"
   ]
  },
  {
   "cell_type": "code",
   "execution_count": 68,
   "metadata": {},
   "outputs": [
    {
     "name": "stderr",
     "output_type": "stream",
     "text": [
      " 11%|█▏        | 1655/14624 [01:14<09:43, 22.22it/s]\n"
     ]
    },
    {
     "ename": "KeyboardInterrupt",
     "evalue": "",
     "output_type": "error",
     "traceback": [
      "\u001b[1;31m---------------------------------------------------------------------------\u001b[0m",
      "\u001b[1;31mKeyboardInterrupt\u001b[0m                         Traceback (most recent call last)",
      "\u001b[1;32md:\\dev\\ironhack\\ironhack-mid-project\\index.ipynb Cell 70'\u001b[0m in \u001b[0;36m<cell line: 9>\u001b[1;34m()\u001b[0m\n\u001b[0;32m      <a href='vscode-notebook-cell:/d%3A/dev/ironhack/ironhack-mid-project/index.ipynb#ch0000072?line=5'>6</a>\u001b[0m model \u001b[39m=\u001b[39m LogisticRegressionWithThreshold()\n\u001b[0;32m      <a href='vscode-notebook-cell:/d%3A/dev/ironhack/ironhack-mid-project/index.ipynb#ch0000072?line=6'>7</a>\u001b[0m model\u001b[39m.\u001b[39mfit(X_train, y_train)\n\u001b[1;32m----> <a href='vscode-notebook-cell:/d%3A/dev/ironhack/ironhack-mid-project/index.ipynb#ch0000072?line=8'>9</a>\u001b[0m threshold, max_cost, df_cost \u001b[39m=\u001b[39m model\u001b[39m.\u001b[39;49mthreshold_from_cost_function(X_train, y_train,\n\u001b[0;32m     <a href='vscode-notebook-cell:/d%3A/dev/ironhack/ironhack-mid-project/index.ipynb#ch0000072?line=9'>10</a>\u001b[0m                                                                  calculate_revenue,\n\u001b[0;32m     <a href='vscode-notebook-cell:/d%3A/dev/ironhack/ironhack-mid-project/index.ipynb#ch0000072?line=10'>11</a>\u001b[0m                                                                  n_customers,\n\u001b[0;32m     <a href='vscode-notebook-cell:/d%3A/dev/ironhack/ironhack-mid-project/index.ipynb#ch0000072?line=11'>12</a>\u001b[0m                                                                  customer_acceptance_gain,\n\u001b[0;32m     <a href='vscode-notebook-cell:/d%3A/dev/ironhack/ironhack-mid-project/index.ipynb#ch0000072?line=12'>13</a>\u001b[0m                                                                  email_cost\n\u001b[0;32m     <a href='vscode-notebook-cell:/d%3A/dev/ironhack/ironhack-mid-project/index.ipynb#ch0000072?line=13'>14</a>\u001b[0m                                                             )\n\u001b[0;32m     <a href='vscode-notebook-cell:/d%3A/dev/ironhack/ironhack-mid-project/index.ipynb#ch0000072?line=14'>15</a>\u001b[0m y_pred \u001b[39m=\u001b[39m model\u001b[39m.\u001b[39mpredict(X_test, threshold)\n\u001b[0;32m     <a href='vscode-notebook-cell:/d%3A/dev/ironhack/ironhack-mid-project/index.ipynb#ch0000072?line=16'>17</a>\u001b[0m \u001b[39mprint\u001b[39m(threshold, max_cost)\n",
      "File \u001b[1;32md:\\dev\\ironhack\\ironhack-mid-project\\src\\utils\\classes.py:45\u001b[0m, in \u001b[0;36mLogisticRegressionWithThreshold.threshold_from_cost_function\u001b[1;34m(self, X, y, cost_function, n_customers, customer_acceptance_gain, email_cost)\u001b[0m\n\u001b[0;32m     43\u001b[0m \u001b[39mfor\u001b[39;00m threshold \u001b[39min\u001b[39;00m tqdm(thresholds):\n\u001b[0;32m     44\u001b[0m     y_pred_with_threshold \u001b[39m=\u001b[39m (y_scores \u001b[39m>\u001b[39m\u001b[39m=\u001b[39m threshold)\u001b[39m.\u001b[39mastype(\u001b[39mint\u001b[39m)\n\u001b[1;32m---> 45\u001b[0m     costs\u001b[39m.\u001b[39mappend(cost_function(y, y_pred_with_threshold, n_customers, customer_acceptance_gain, email_cost))\n\u001b[0;32m     47\u001b[0m df_cost \u001b[39m=\u001b[39m pd\u001b[39m.\u001b[39mDataFrame({\u001b[39m'\u001b[39m\u001b[39mprecision\u001b[39m\u001b[39m'\u001b[39m:precisions[:\u001b[39m-\u001b[39m\u001b[39m1\u001b[39m], \u001b[39m'\u001b[39m\u001b[39mrecall\u001b[39m\u001b[39m'\u001b[39m:recalls[:\u001b[39m-\u001b[39m\u001b[39m1\u001b[39m], \u001b[39m'\u001b[39m\u001b[39mthreshold\u001b[39m\u001b[39m'\u001b[39m:thresholds, \u001b[39m'\u001b[39m\u001b[39mcost\u001b[39m\u001b[39m'\u001b[39m:costs})\n\u001b[0;32m     48\u001b[0m max_cost \u001b[39m=\u001b[39m df_cost[\u001b[39m'\u001b[39m\u001b[39mcost\u001b[39m\u001b[39m'\u001b[39m]\u001b[39m.\u001b[39mmax()\n",
      "\u001b[1;32md:\\dev\\ironhack\\ironhack-mid-project\\index.ipynb Cell 64'\u001b[0m in \u001b[0;36mcalculate_revenue\u001b[1;34m(y_test, predictions, n_customers, customer_acceptance_gain, email_cost)\u001b[0m\n\u001b[0;32m      <a href='vscode-notebook-cell:/d%3A/dev/ironhack/ironhack-mid-project/index.ipynb#ch0000063?line=4'>5</a>\u001b[0m \u001b[39mif\u001b[39;00m pd\u001b[39m.\u001b[39mSeries(predictions)\u001b[39m.\u001b[39munique()\u001b[39m.\u001b[39mdtype \u001b[39min\u001b[39;00m [\u001b[39mint\u001b[39m, \u001b[39m'\u001b[39m\u001b[39mint32\u001b[39m\u001b[39m'\u001b[39m, \u001b[39m'\u001b[39m\u001b[39mint64\u001b[39m\u001b[39m'\u001b[39m]:\n\u001b[0;32m      <a href='vscode-notebook-cell:/d%3A/dev/ironhack/ironhack-mid-project/index.ipynb#ch0000063?line=5'>6</a>\u001b[0m     predictions \u001b[39m=\u001b[39m pd\u001b[39m.\u001b[39mSeries(predictions)\u001b[39m.\u001b[39mreplace({\u001b[39m0\u001b[39m: \u001b[39m'\u001b[39m\u001b[39mNo\u001b[39m\u001b[39m'\u001b[39m, \u001b[39m1\u001b[39m: \u001b[39m'\u001b[39m\u001b[39mYes\u001b[39m\u001b[39m'\u001b[39m})\n\u001b[1;32m----> <a href='vscode-notebook-cell:/d%3A/dev/ironhack/ironhack-mid-project/index.ipynb#ch0000063?line=7'>8</a>\u001b[0m confusion \u001b[39m=\u001b[39m confusion_matrix(y_test, predictions)\n\u001b[0;32m      <a href='vscode-notebook-cell:/d%3A/dev/ironhack/ironhack-mid-project/index.ipynb#ch0000063?line=8'>9</a>\u001b[0m TP \u001b[39m=\u001b[39m confusion[\u001b[39m1\u001b[39m, \u001b[39m1\u001b[39m]\u001b[39m*\u001b[39mn_customers\u001b[39m/\u001b[39m(\u001b[39mlen\u001b[39m(y_test)) \u001b[39m# True positive\u001b[39;00m\n\u001b[0;32m     <a href='vscode-notebook-cell:/d%3A/dev/ironhack/ironhack-mid-project/index.ipynb#ch0000063?line=9'>10</a>\u001b[0m FP \u001b[39m=\u001b[39m confusion[\u001b[39m0\u001b[39m, \u001b[39m1\u001b[39m]\u001b[39m*\u001b[39mn_customers\u001b[39m/\u001b[39m(\u001b[39mlen\u001b[39m(y_test)) \u001b[39m# False positive\u001b[39;00m\n",
      "File \u001b[1;32mc:\\anaconda3\\envs\\myenv\\lib\\site-packages\\sklearn\\metrics\\_classification.py:361\u001b[0m, in \u001b[0;36mconfusion_matrix\u001b[1;34m(y_true, y_pred, labels, sample_weight, normalize)\u001b[0m\n\u001b[0;32m    358\u001b[0m \u001b[39melse\u001b[39;00m:\n\u001b[0;32m    359\u001b[0m     dtype \u001b[39m=\u001b[39m np\u001b[39m.\u001b[39mfloat64\n\u001b[1;32m--> 361\u001b[0m cm \u001b[39m=\u001b[39m coo_matrix(\n\u001b[0;32m    362\u001b[0m     (sample_weight, (y_true, y_pred)),\n\u001b[0;32m    363\u001b[0m     shape\u001b[39m=\u001b[39;49m(n_labels, n_labels),\n\u001b[0;32m    364\u001b[0m     dtype\u001b[39m=\u001b[39;49mdtype,\n\u001b[0;32m    365\u001b[0m )\u001b[39m.\u001b[39mtoarray()\n\u001b[0;32m    367\u001b[0m \u001b[39mwith\u001b[39;00m np\u001b[39m.\u001b[39merrstate(\u001b[39mall\u001b[39m\u001b[39m=\u001b[39m\u001b[39m\"\u001b[39m\u001b[39mignore\u001b[39m\u001b[39m\"\u001b[39m):\n\u001b[0;32m    368\u001b[0m     \u001b[39mif\u001b[39;00m normalize \u001b[39m==\u001b[39m \u001b[39m\"\u001b[39m\u001b[39mtrue\u001b[39m\u001b[39m\"\u001b[39m:\n",
      "File \u001b[1;32mc:\\anaconda3\\envs\\myenv\\lib\\site-packages\\scipy\\sparse\\coo.py:196\u001b[0m, in \u001b[0;36mcoo_matrix.__init__\u001b[1;34m(self, arg1, shape, dtype, copy)\u001b[0m\n\u001b[0;32m    193\u001b[0m \u001b[39mif\u001b[39;00m dtype \u001b[39mis\u001b[39;00m \u001b[39mnot\u001b[39;00m \u001b[39mNone\u001b[39;00m:\n\u001b[0;32m    194\u001b[0m     \u001b[39mself\u001b[39m\u001b[39m.\u001b[39mdata \u001b[39m=\u001b[39m \u001b[39mself\u001b[39m\u001b[39m.\u001b[39mdata\u001b[39m.\u001b[39mastype(dtype, copy\u001b[39m=\u001b[39m\u001b[39mFalse\u001b[39;00m)\n\u001b[1;32m--> 196\u001b[0m \u001b[39mself\u001b[39;49m\u001b[39m.\u001b[39;49m_check()\n",
      "File \u001b[1;32mc:\\anaconda3\\envs\\myenv\\lib\\site-packages\\scipy\\sparse\\coo.py:288\u001b[0m, in \u001b[0;36mcoo_matrix._check\u001b[1;34m(self)\u001b[0m\n\u001b[0;32m    286\u001b[0m \u001b[39mif\u001b[39;00m \u001b[39mself\u001b[39m\u001b[39m.\u001b[39mrow\u001b[39m.\u001b[39mmin() \u001b[39m<\u001b[39m \u001b[39m0\u001b[39m:\n\u001b[0;32m    287\u001b[0m     \u001b[39mraise\u001b[39;00m \u001b[39mValueError\u001b[39;00m(\u001b[39m'\u001b[39m\u001b[39mnegative row index found\u001b[39m\u001b[39m'\u001b[39m)\n\u001b[1;32m--> 288\u001b[0m \u001b[39mif\u001b[39;00m \u001b[39mself\u001b[39;49m\u001b[39m.\u001b[39;49mcol\u001b[39m.\u001b[39;49mmin() \u001b[39m<\u001b[39m \u001b[39m0\u001b[39m:\n\u001b[0;32m    289\u001b[0m     \u001b[39mraise\u001b[39;00m \u001b[39mValueError\u001b[39;00m(\u001b[39m'\u001b[39m\u001b[39mnegative column index found\u001b[39m\u001b[39m'\u001b[39m)\n",
      "File \u001b[1;32mc:\\anaconda3\\envs\\myenv\\lib\\site-packages\\numpy\\core\\_methods.py:44\u001b[0m, in \u001b[0;36m_amin\u001b[1;34m(a, axis, out, keepdims, initial, where)\u001b[0m\n\u001b[0;32m     42\u001b[0m \u001b[39mdef\u001b[39;00m \u001b[39m_amin\u001b[39m(a, axis\u001b[39m=\u001b[39m\u001b[39mNone\u001b[39;00m, out\u001b[39m=\u001b[39m\u001b[39mNone\u001b[39;00m, keepdims\u001b[39m=\u001b[39m\u001b[39mFalse\u001b[39;00m,\n\u001b[0;32m     43\u001b[0m           initial\u001b[39m=\u001b[39m_NoValue, where\u001b[39m=\u001b[39m\u001b[39mTrue\u001b[39;00m):\n\u001b[1;32m---> 44\u001b[0m     \u001b[39mreturn\u001b[39;00m umr_minimum(a, axis, \u001b[39mNone\u001b[39;49;00m, out, keepdims, initial, where)\n",
      "\u001b[1;31mKeyboardInterrupt\u001b[0m: "
     ]
    }
   ],
   "source": [
    "from src.utils import classes\n",
    "import importlib\n",
    "importlib.reload(classes)\n",
    "from src.utils.classes import LogisticRegressionWithThreshold\n",
    "# Apply model optimized in tpr-fpr\n",
    "model = LogisticRegressionWithThreshold()\n",
    "model.fit(X_train, y_train)\n",
    "\n",
    "threshold, max_cost, df_cost = model.threshold_from_cost_function(X_train, y_train,\n",
    "                                                                 calculate_revenue,\n",
    "                                                                 n_customers,\n",
    "                                                                 customer_acceptance_gain,\n",
    "                                                                 email_cost\n",
    "                                                            )\n",
    "y_pred = model.predict(X_test, threshold)\n",
    "\n",
    "print(threshold, max_cost)\n",
    "metrics.plot_confusion_matrix(y_test, pd.Series(y_pred).replace({0: 'No', 1: 'Yes'}))\n",
    "\n",
    "# print('Revenue optimized model')\n",
    "# print(\n",
    "#     calculate_revenue(y_test, y_pred, n_customers, customer_acceptance_gain, email_cost)\n",
    "# )\n",
    "# print(classification_report(y_test, pd.Series(y_pred).replace({0: 'No', 1: 'Yes'})))"
   ]
  }
 ],
 "metadata": {
  "kernelspec": {
   "display_name": "Python 3.9.7 ('myenv')",
   "language": "python",
   "name": "python3"
  },
  "language_info": {
   "codemirror_mode": {
    "name": "ipython",
    "version": 3
   },
   "file_extension": ".py",
   "mimetype": "text/x-python",
   "name": "python",
   "nbconvert_exporter": "python",
   "pygments_lexer": "ipython3",
   "version": "3.9.7"
  },
  "orig_nbformat": 4,
  "vscode": {
   "interpreter": {
    "hash": "7ccaf04a6022a907b7257628cb7bbafd62ce30c6b894e36b28dd76ca1e2b8b50"
   }
  }
 },
 "nbformat": 4,
 "nbformat_minor": 2
}

{
 "cells": [
  {
   "cell_type": "code",
   "execution_count": 1,
   "metadata": {},
   "outputs": [],
   "source": [
    "from queries import *\n",
    "from utils.query_controller import *\n",
    "import pandas as pd"
   ]
  },
  {
   "cell_type": "code",
   "execution_count": 2,
   "metadata": {},
   "outputs": [
    {
     "data": {
      "text/html": [
       "<div>\n",
       "<style scoped>\n",
       "    .dataframe tbody tr th:only-of-type {\n",
       "        vertical-align: middle;\n",
       "    }\n",
       "\n",
       "    .dataframe tbody tr th {\n",
       "        vertical-align: top;\n",
       "    }\n",
       "\n",
       "    .dataframe thead th {\n",
       "        text-align: right;\n",
       "    }\n",
       "</style>\n",
       "<table border=\"1\" class=\"dataframe\">\n",
       "  <thead>\n",
       "    <tr style=\"text-align: right;\">\n",
       "      <th></th>\n",
       "      <th>customer_number</th>\n",
       "      <th>offer_accepted</th>\n",
       "      <th>reward</th>\n",
       "      <th>mailer_type</th>\n",
       "      <th>income_level</th>\n",
       "      <th>bank_accounts_open</th>\n",
       "      <th>overdraft_protection</th>\n",
       "      <th>credit_rating</th>\n",
       "      <th>credit_cards_held</th>\n",
       "      <th>homes_owned</th>\n",
       "      <th>household_size</th>\n",
       "      <th>own_your_home</th>\n",
       "      <th>average_balance</th>\n",
       "      <th>q1_balance</th>\n",
       "      <th>q2_balance</th>\n",
       "      <th>q3_balance</th>\n",
       "      <th>q4_balance</th>\n",
       "    </tr>\n",
       "  </thead>\n",
       "  <tbody>\n",
       "    <tr>\n",
       "      <th>0</th>\n",
       "      <td>4547</td>\n",
       "      <td>No</td>\n",
       "      <td>Points</td>\n",
       "      <td>Letter</td>\n",
       "      <td>Low</td>\n",
       "      <td>1</td>\n",
       "      <td>No</td>\n",
       "      <td>Low</td>\n",
       "      <td>2</td>\n",
       "      <td>1</td>\n",
       "      <td>2</td>\n",
       "      <td>Yes</td>\n",
       "      <td>235.75</td>\n",
       "      <td>1</td>\n",
       "      <td>225</td>\n",
       "      <td>333</td>\n",
       "      <td>384</td>\n",
       "    </tr>\n",
       "  </tbody>\n",
       "</table>\n",
       "</div>"
      ],
      "text/plain": [
       "   customer_number offer_accepted  reward mailer_type income_level  \\\n",
       "0             4547             No  Points      Letter          Low   \n",
       "\n",
       "   bank_accounts_open overdraft_protection credit_rating  credit_cards_held  \\\n",
       "0                   1                   No           Low                  2   \n",
       "\n",
       "   homes_owned  household_size own_your_home average_balance  q1_balance  \\\n",
       "0            1               2           Yes          235.75           1   \n",
       "\n",
       "   q2_balance  q3_balance  q4_balance  \n",
       "0         225         333         384  "
      ]
     },
     "metadata": {},
     "output_type": "display_data"
    }
   ],
   "source": [
    "queries = [\n",
    "    QUERY_00,\n",
    "    QUERY_01,\n",
    "    QUERY_02,\n",
    "    QUERY_04,\n",
    "    QUERY_05,\n",
    "    QUERY_06,\n",
    "    QUERY_07,\n",
    "    QUERY_08,\n",
    "    QUERY_09,\n",
    "    QUERY_10,\n",
    "    QUERY_11,\n",
    "    QUERY_13,\n",
    "    QUERY_14,\n",
    "    QUERY_16,\n",
    "    QUERY_17\n",
    "    ]\n",
    "\n",
    "for _q in queries:\n",
    "    result = query_controller(_q)\n",
    "    display(pd.DataFrame(data=result[0], columns=result[1]))\n",
    "\n",
    "# for question-09 we could say there is a direct correlation"
   ]
  },
  {
   "cell_type": "code",
   "execution_count": 3,
   "metadata": {},
   "outputs": [
    {
     "name": "stdout",
     "output_type": "stream",
     "text": [
      "{'credit_cards_held_unq': [(1,), (3,), (4,), (2,)],\n",
      " 'household_size_unq': [(8,), (9,), (1,), (5,), (2,), (4,), (6,), (3,)],\n",
      " 'mailer_type_unq': [('Postcard',), ('Letter',)],\n",
      " 'offer_accepted_unq': [('Yes',), ('No',)],\n",
      " 'reward_unq': [('Cash Back',), ('Points',), ('Air Miles',)]}\n"
     ]
    }
   ],
   "source": [
    "# answer question-07 query_03\n",
    "from pprint import pprint\n",
    "query_dic = {}\n",
    "queries = query_03()\n",
    "for i, query in enumerate(queries):\n",
    "    result = query_controller(query)\n",
    "    query_dic[f\"{result[1][0]}_unq\"] = result[0]\n",
    "pprint(query_dic)\n"
   ]
  },
  {
   "cell_type": "code",
   "execution_count": null,
   "metadata": {},
   "outputs": [],
   "source": [
    "# question-13 executes differently"
   ]
  }
 ],
 "metadata": {
  "interpreter": {
   "hash": "7d6993cb2f9ce9a59d5d7380609d9cb5192a9dedd2735a011418ad9e827eb538"
  },
  "kernelspec": {
   "display_name": "Python 3.9.12 64-bit",
   "language": "python",
   "name": "python3"
  },
  "language_info": {
   "codemirror_mode": {
    "name": "ipython",
    "version": 3
   },
   "file_extension": ".py",
   "mimetype": "text/x-python",
   "name": "python",
   "nbconvert_exporter": "python",
   "pygments_lexer": "ipython3",
   "version": "3.9.13"
  },
  "orig_nbformat": 4,
  "vscode": {
   "interpreter": {
    "hash": "81794d4967e6c3204c66dcd87b604927b115b27c00565d3d43f05ba2f3a2cb0d"
   }
  }
 },
 "nbformat": 4,
 "nbformat_minor": 2
}
